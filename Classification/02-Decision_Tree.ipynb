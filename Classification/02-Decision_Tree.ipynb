{
 "cells": [
  {
   "cell_type": "markdown",
   "id": "2a347371-a12c-4469-bcfb-25f39356ba48",
   "metadata": {},
   "source": [
    "# 0.0 - Imports Libraries"
   ]
  },
  {
   "cell_type": "code",
   "execution_count": 1,
   "id": "adcedb58-6fef-4296-846a-85b17875fe62",
   "metadata": {},
   "outputs": [],
   "source": [
    "import time\n",
    "import pandas            as pd\n",
    "import numpy             as np\n",
    "import matplotlib.pyplot as plt\n",
    "\n",
    "\n",
    "from sklearn                 import metrics  as mt\n",
    "from sklearn.tree            import DecisionTreeClassifier\n",
    "from sklearn.tree            import DecisionTreeRegressor\n",
    "from sklearn.model_selection import RandomizedSearchCV"
   ]
  },
  {
   "cell_type": "markdown",
   "id": "2cf47e6b-e95e-49c1-ac78-b8e9f51ea116",
   "metadata": {},
   "source": [
    "# 1.0 - Load Dataset"
   ]
  },
  {
   "cell_type": "code",
   "execution_count": 2,
   "id": "5d58977b-0ed9-40d6-81a5-1105c2471af7",
   "metadata": {},
   "outputs": [],
   "source": [
    "# Train Dataset\n",
    "df_X_train = pd.read_csv( '../dataset/classificacao/X_training.csv' )\n",
    "y_train = pd.read_csv( '../dataset/classificacao/y_training.csv' )\n",
    "\n",
    "# Validattion Dataset\n",
    "df_X_val = pd.read_csv( '../dataset/classificacao/X_validation.csv' )\n",
    "y_val = pd.read_csv( '../dataset/classificacao/y_validation.csv' )\n",
    "\n",
    "# Test\n",
    "df_X_test = pd.read_csv( '../dataset/classificacao/X_test.csv' )\n",
    "y_test = pd.read_csv( '../dataset/classificacao/y_test.csv' )"
   ]
  },
  {
   "cell_type": "markdown",
   "id": "3e37ee6a-e125-444b-8de0-1e238140fc24",
   "metadata": {},
   "source": [
    "# 2.0 - Decision Tree Classifier"
   ]
  },
  {
   "cell_type": "markdown",
   "id": "9c29c0fe-a347-49f8-94f0-7d1e02fa12bb",
   "metadata": {},
   "source": [
    "## 2.0.1 - Feature Selection"
   ]
  },
  {
   "cell_type": "code",
   "execution_count": 3,
   "id": "fcabbdb9-a8da-46e8-837a-b93c9f18a3d6",
   "metadata": {},
   "outputs": [],
   "source": [
    "# Selected Features\n",
    "features = ['age', 'class', 'flight_distance', 'inflight_wifi_service', 'departure_arrival_time_convenient','ease_of_online_booking', \n",
    "            'gate_location', 'food_and_drink','online_boarding', 'seat_comfort', 'inflight_entertainment','on_board_service', \n",
    "            'leg_room_service', 'baggage_handling', 'checkin_service', 'inflight_service', 'cleanliness', \n",
    "            'departure_delay_in_minutes', 'arrival_delay_in_minutes']\n",
    "\n",
    "X_train = df_X_train.loc[:, features]\n",
    "X_val   = df_X_val.loc[:, features]\n",
    "X_test = df_X_test.loc[:, features]"
   ]
  },
  {
   "cell_type": "markdown",
   "id": "409ad36d-65fa-4c44-a913-4c105deed111",
   "metadata": {},
   "source": [
    "Parameter\n",
    "* max_depth"
   ]
  },
  {
   "cell_type": "markdown",
   "id": "fc6fe9eb-8ad1-40b3-972f-898dd0da0803",
   "metadata": {},
   "source": [
    "## 2.1 - Performance for Train Dataset"
   ]
  },
  {
   "cell_type": "code",
   "execution_count": 5,
   "id": "7b59c56c-130c-4b53-9e7d-4b6499bc36d0",
   "metadata": {},
   "outputs": [
    {
     "name": "stdout",
     "output_type": "stream",
     "text": [
      "A Acurácia é: 100.00%\n",
      "A Precisão é: 100.00%\n",
      "Recall é: 100.00%\n",
      "F1-Score é: 100.00%\n"
     ]
    }
   ],
   "source": [
    "# Define \n",
    "model_tree = DecisionTreeClassifier( random_state=77 )\n",
    "\n",
    "# Fit\n",
    "model_tree.fit( X_train, y_train )\n",
    "\n",
    "# Predict\n",
    "y_pred_train = model_tree.predict( X_train )\n",
    "\n",
    "# Performance Metrics\n",
    "accuracy_train = mt.accuracy_score( y_train, y_pred_train )\n",
    "precision_train = mt.precision_score( y_train, y_pred_train )\n",
    "recall_train = mt.recall_score( y_train, y_pred_train )\n",
    "f1_score_train = mt.f1_score( y_train, y_pred_train )\n",
    "\n",
    "\n",
    "print( f'A Acurácia é: {accuracy_train:.2%}' )\n",
    "print( f'A Precisão é: {precision_train:.2%}' )\n",
    "print( f'Recall é: {recall_train:.2%}' )\n",
    "print( f'F1-Score é: {f1_score_train:.2%}' )"
   ]
  },
  {
   "cell_type": "markdown",
   "id": "d65c252c-607c-4d97-b50f-40fd36282be5",
   "metadata": {},
   "source": [
    "## 2.2 - Performance for Validation Dataset"
   ]
  },
  {
   "cell_type": "code",
   "execution_count": 6,
   "id": "9e2b29e9-9054-46d2-a52f-70ad1728a931",
   "metadata": {},
   "outputs": [
    {
     "name": "stdout",
     "output_type": "stream",
     "text": [
      "A Acurácia é: 92.950%\n",
      "A Precisão é: 91.402%\n",
      "Recall é: 92.427%\n",
      "F1-Score é: 91.912%\n"
     ]
    }
   ],
   "source": [
    "# Define and fit model\n",
    "model_tree = DecisionTreeClassifier( random_state=77 )\n",
    "model_tree.fit( X_train, y_train )\n",
    "\n",
    "# Predict\n",
    "y_pred_val = model_tree.predict( X_val )\n",
    "\n",
    "# Performance Metrics\n",
    "accuracy_val = mt.accuracy_score( y_val, y_pred_val )\n",
    "precision_val = mt.precision_score( y_val, y_pred_val )\n",
    "recall_val = mt.recall_score( y_val, y_pred_val )\n",
    "f1_score_val = mt.f1_score( y_val, y_pred_val )\n",
    "\n",
    "\n",
    "print( f'A Acurácia é: {accuracy_val:.3%}' )\n",
    "print( f'A Precisão é: {precision_val:.3%}' )\n",
    "print( f'Recall é: {recall_val:.3%}' )\n",
    "print( f'F1-Score é: {f1_score_val:.3%}' )"
   ]
  },
  {
   "cell_type": "markdown",
   "id": "f2c0583a-9e34-48e1-b8b4-6fe3193a3d61",
   "metadata": {},
   "source": [
    "## 2.3 Hyperparameters Fine Tunning"
   ]
  },
  {
   "cell_type": "code",
   "execution_count": 7,
   "id": "2df8c803-6735-487f-b750-dbda2356baf9",
   "metadata": {},
   "outputs": [],
   "source": [
    "max_depth = np.arange( 1, 51, 1 )\n",
    "\n",
    "accuracy_list = []\n",
    "precision_list = []\n",
    "recall_list = []\n",
    "f1_score_list = []"
   ]
  },
  {
   "cell_type": "code",
   "execution_count": 8,
   "id": "83d5c681-63e5-44ba-a898-61b8e0e599be",
   "metadata": {},
   "outputs": [],
   "source": [
    "for i in max_depth:\n",
    "    model_tree = DecisionTreeClassifier( max_depth=i, random_state=77 )\n",
    "    model_tree.fit( X_train, y_train )\n",
    "    y_pred = model_tree.predict( X_val )\n",
    "\n",
    "    accuracy = mt.accuracy_score( y_val, y_pred )\n",
    "    precision = mt.precision_score( y_val, y_pred )\n",
    "    recall = mt.recall_score( y_val, y_pred )\n",
    "    f1_score = mt.f1_score( y_val, y_pred )\n",
    "\n",
    "    accuracy_list.append( accuracy )\n",
    "    precision_list.append( precision )\n",
    "    recall_list.append( recall )\n",
    "    f1_score_list.append( f1_score )"
   ]
  },
  {
   "cell_type": "code",
   "execution_count": 9,
   "id": "445b38e7-fd66-49e6-b599-a8ca8ee9066f",
   "metadata": {},
   "outputs": [
    {
     "data": {
      "image/png": "[encoded data removed]",
      "text/plain": [
       "<Figure size 640x480 with 1 Axes>"
      ]
     },
     "metadata": {},
     "output_type": "display_data"
    }
   ],
   "source": [
    "plt.plot( max_depth, accuracy_list, 'b--', label='Accuracy' )\n",
    "plt.plot( max_depth, precision_list, 'o-', label='Precision' )\n",
    "plt.plot( max_depth, recall_list, 'g-', label='Recall' )\n",
    "plt.plot( max_depth, f1_score_list, 'r-o', label='F1 Score' )\n",
    "plt.xlabel( 'Max Depth' )\n",
    "plt.ylabel( 'Metrics' )\n",
    "plt.legend();"
   ]
  },
  {
   "cell_type": "code",
   "execution_count": 10,
   "id": "efa0d3e1-d4c1-4c07-8bb5-c279ad6d2504",
   "metadata": {},
   "outputs": [
    {
     "data": {
      "text/plain": [
       "38"
      ]
     },
     "execution_count": 10,
     "metadata": {},
     "output_type": "execute_result"
    }
   ],
   "source": [
    "best_depth = max_depth[ np.argmax(recall_list) ]\n",
    "best_depth"
   ]
  },
  {
   "cell_type": "markdown",
   "id": "3d42f17f-28db-48b3-aa5a-bd426a722ecd",
   "metadata": {},
   "source": [
    "## 2.4 - Performance for Test Dataset"
   ]
  },
  {
   "cell_type": "code",
   "execution_count": 11,
   "id": "e00a8e37-7890-4470-9bfe-db1054beeba8",
   "metadata": {},
   "outputs": [
    {
     "name": "stdout",
     "output_type": "stream",
     "text": [
      "Test Accuracy: 93.496%\n",
      "Test Precision: 92.636%\n",
      "Test Recall: 92.538%\n",
      "Test F1 Score: 92.587%\n"
     ]
    }
   ],
   "source": [
    "# Define and Fit Model\n",
    "model_tree = DecisionTreeClassifier( max_depth=best_depth, random_state=77 )\n",
    "model_tree.fit( pd.concat( [X_train, X_val] ), pd.concat( [y_train, y_val]) )\n",
    "\n",
    "# Predict\n",
    "y_pred_test = model_tree.predict( X_test )\n",
    "\n",
    "# Performance Metrics\n",
    "accuracy_test = mt.accuracy_score( y_test, y_pred_test )\n",
    "precision_test = mt.precision_score( y_test, y_pred_test )\n",
    "recall_test = mt.recall_score( y_test, y_pred_test )\n",
    "f1_score_test = mt.f1_score( y_test, y_pred_test )\n",
    "\n",
    "print( f'Test Accuracy: {accuracy_test:.3%}' )\n",
    "print( f'Test Precision: {precision_test:.3%}' )\n",
    "print( f'Test Recall: {recall_test:.3%}' )\n",
    "print( f'Test F1 Score: {f1_score_test:.3%}' )"
   ]
  }
 ],
 "metadata": {
  "kernelspec": {
   "display_name": "Python 3 (ipykernel)",
   "language": "python",
   "name": "python3"
  },
  "language_info": {
   "codemirror_mode": {
    "name": "ipython",
    "version": 3
   },
   "file_extension": ".py",
   "mimetype": "text/x-python",
   "name": "python",
   "nbconvert_exporter": "python",
   "pygments_lexer": "ipython3",
   "version": "3.8.10"
  }
 },
 "nbformat": 4,
 "nbformat_minor": 5
}
