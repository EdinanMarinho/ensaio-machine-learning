{
 "cells": [
  {
   "cell_type": "markdown",
   "id": "a7d066be-c52b-4ea1-bcfc-92751c818528",
   "metadata": {},
   "source": [
    "# 0.0 - Imports"
   ]
  },
  {
   "cell_type": "code",
   "execution_count": 1,
   "id": "ccfb3859-bbe2-4644-b5c8-d89ba60ae024",
   "metadata": {},
   "outputs": [],
   "source": [
    "import warnings\n",
    "\n",
    "import pandas as pd\n",
    "import numpy  as np\n",
    "\n",
    "import matplotlib.pyplot as plt\n",
    "\n",
    "from sklearn import metrics as mt\n",
    "from sklearn.linear_model import Lasso\n",
    "from sklearn.linear_model import Ridge\n",
    "from sklearn.preprocessing import PolynomialFeatures"
   ]
  },
  {
   "cell_type": "code",
   "execution_count": 2,
   "id": "152cbf6e-d3bf-4e41-a1bf-7df5edbca14b",
   "metadata": {},
   "outputs": [],
   "source": [
    "warnings.filterwarnings('ignore')"
   ]
  },
  {
   "cell_type": "markdown",
   "id": "0a5adcf0-8fac-476a-b8d4-5112cd434e36",
   "metadata": {},
   "source": [
    "# 1.0 - Load Dataset"
   ]
  },
  {
   "cell_type": "code",
   "execution_count": 3,
   "id": "10787bb4-daf5-4c8c-ab92-98c2d5ac4b1a",
   "metadata": {},
   "outputs": [],
   "source": [
    "# Train Dataset \n",
    "df_X_train = pd.read_csv( '../dataset/regressao/X_training.csv' )\n",
    "df_y_train = pd.read_csv( '../dataset/regressao/y_training.csv' )\n",
    "\n",
    "# Validation Dataset \n",
    "df_X_val = pd.read_csv( '../dataset/regressao/X_validation.csv' )\n",
    "df_y_val = pd.read_csv( '../dataset/regressao/y_val.csv' )\n",
    "\n",
    "# Validation Dataset \n",
    "df_X_test = pd.read_csv( '../dataset/regressao/X_test.csv' )\n",
    "df_y_test = pd.read_csv( '../dataset/regressao/y_test.csv' )"
   ]
  },
  {
   "cell_type": "markdown",
   "id": "fb713031-e1bf-4c13-9c20-a74d2681761a",
   "metadata": {},
   "source": [
    "# 2.0 - Algoritmo: Polinomial Regression Lasso"
   ]
  },
  {
   "cell_type": "markdown",
   "id": "f0893a83-38e2-43ba-b2f7-d8b7836f3a2a",
   "metadata": {},
   "source": [
    "Parametros\n",
    "* degree\n",
    "* alpha\n",
    "* max_iter"
   ]
  },
  {
   "cell_type": "markdown",
   "id": "33509945-6fb6-4b70-849d-48aba10affbe",
   "metadata": {},
   "source": [
    "## 2.1 - Performance for Train Dataset"
   ]
  },
  {
   "cell_type": "code",
   "execution_count": 4,
   "id": "84a80c3c-2a75-4849-b4b6-5335b7cb8d2a",
   "metadata": {},
   "outputs": [
    {
     "name": "stdout",
     "output_type": "stream",
     "text": [
      "Train R2: 0.009149935251170582\n",
      "Train MSE: 473.6387760067563\n",
      "Train RMSE: 21.763243692215468\n",
      "Train MAE: 17.28544966126129\n",
      "Train MAPE: 8.699700898061744\n"
     ]
    }
   ],
   "source": [
    "# Define polynomial model\n",
    "poly = PolynomialFeatures()\n",
    "X_poly_train = poly.fit_transform( df_X_train )\n",
    "\n",
    "# Training model\n",
    "poly_lasso = Lasso( random_state=77 )\n",
    "poly_lasso.fit( X_poly_train, df_y_train )\n",
    "\n",
    "# Predict\n",
    "y_pred_train = poly_lasso.predict( X_poly_train )\n",
    "\n",
    "# Performance metrics\n",
    "r2_train = mt.r2_score( df_y_train, y_pred_train )\n",
    "mse_train = mt.mean_squared_error( df_y_train, y_pred_train )\n",
    "rmse_train = mt.mean_squared_error( df_y_train, y_pred_train, squared=False )\n",
    "mae_train = mt.mean_absolute_error( df_y_train, y_pred_train )\n",
    "mape_train = mt.mean_absolute_percentage_error( df_y_train, y_pred_train )\n",
    "\n",
    "print( f'Train R2: {r2_train}' )\n",
    "print( f'Train MSE: {mse_train}' )\n",
    "print( f'Train RMSE: {rmse_train}' )\n",
    "print( f'Train MAE: {mae_train}' )\n",
    "print( f'Train MAPE: {mape_train}' )"
   ]
  },
  {
   "cell_type": "markdown",
   "id": "8b2aec8d-34d7-49cc-bf2b-08ab50529b03",
   "metadata": {},
   "source": [
    "## 2.2 - Performance for Train Dataset"
   ]
  },
  {
   "cell_type": "code",
   "execution_count": 5,
   "id": "969d49fc-0605-43c3-b7fc-bb97f68c48ea",
   "metadata": {},
   "outputs": [
    {
     "name": "stdout",
     "output_type": "stream",
     "text": [
      "Validation R2: 0.009631007774810185\n",
      "Validation MSE: 472.91269390919564\n",
      "Validation RMSE: 21.746555909136408\n",
      "Validation MAE: 17.238378728440562\n",
      "Validation MAPE: 8.681846557814456\n"
     ]
    }
   ],
   "source": [
    "# Define polynomial model\n",
    "poly = PolynomialFeatures()\n",
    "X_poly_train = poly.fit_transform( df_X_train )\n",
    "X_poly_val = poly.fit_transform( df_X_val )\n",
    "\n",
    "# Training model\n",
    "poly_lasso = Lasso( random_state=77 )\n",
    "poly_lasso.fit( X_poly_train, df_y_train )\n",
    "\n",
    "# Predict\n",
    "y_pred_val = poly_lasso.predict( X_poly_val )\n",
    "\n",
    "# Performance metrics\n",
    "r2_val = mt.r2_score( df_y_val, y_pred_val )\n",
    "mse_val = mt.mean_squared_error( df_y_val, y_pred_val )\n",
    "rmse_val = mt.mean_squared_error( df_y_val, y_pred_val, squared=False )\n",
    "mae_val = mt.mean_absolute_error( df_y_val, y_pred_val )\n",
    "mape_val = mt.mean_absolute_percentage_error( df_y_val, y_pred_val )\n",
    "\n",
    "print( f'Validation R2: {r2_val}' )\n",
    "print( f'Validation MSE: {mse_val}' )\n",
    "print( f'Validation RMSE: {rmse_val}' )\n",
    "print( f'Validation MAE: {mae_val}' )\n",
    "print( f'Validation MAPE: {mape_val}' )"
   ]
  },
  {
   "cell_type": "markdown",
   "id": "69cb1f5e-2b51-4624-ac5a-d00a100e22f4",
   "metadata": {},
   "source": [
    "## 2.3 - Hyperparameter Fine Tuning"
   ]
  },
  {
   "cell_type": "markdown",
   "id": "8d1f0c5b-5177-4c81-bdba-7b640f58ae09",
   "metadata": {},
   "source": [
    "Degree"
   ]
  },
  {
   "cell_type": "code",
   "execution_count": 6,
   "id": "5c7f4359-ecb3-41be-b45a-437ce6deb222",
   "metadata": {},
   "outputs": [],
   "source": [
    "degree = np.arange(1, 6)\n",
    "\n",
    "r2_list = []\n",
    "mse_list = []\n",
    "rmse_list = []\n",
    "mae_list = []\n",
    "mape_list = []"
   ]
  },
  {
   "cell_type": "code",
   "execution_count": 7,
   "id": "37095e8c-d7af-4857-9324-e7e190ec017a",
   "metadata": {},
   "outputs": [],
   "source": [
    "for d in degree:\n",
    "    # Define polynomial model\n",
    "    poly = PolynomialFeatures( degree=d )\n",
    "    X_poly_train = poly.fit_transform( df_X_train )\n",
    "    X_poly_val = poly.fit_transform( df_X_val )\n",
    "    \n",
    "    # Training model\n",
    "    poly_lasso = Lasso( random_state=77 )\n",
    "    poly_lasso.fit( X_poly_train, df_y_train )\n",
    "\n",
    "    # Predict\n",
    "    y_pred_d = poly_lasso.predict( X_poly_val )\n",
    "\n",
    "    # Performance Metrics\n",
    "    r2_d = mt.r2_score( df_y_val, y_pred_d )\n",
    "    mse_d = mt.mean_squared_error( df_y_val, y_pred_d )\n",
    "    rmse_d = mt.mean_squared_error( df_y_val, y_pred_d, squared=False )\n",
    "    mae_d = mt.mean_absolute_error( df_y_val, y_pred_d )\n",
    "    mape_d = mt.mean_absolute_percentage_error( df_y_val, y_pred_d )\n",
    "\n",
    "    r2_list.append( r2_d )\n",
    "    mse_list.append( mse_d )\n",
    "    rmse_list.append( rmse_d )\n",
    "    mae_list.append( mae_d )\n",
    "    mape_list.append( mape_d )"
   ]
  },
  {
   "cell_type": "code",
   "execution_count": 8,
   "id": "ca5de3be-9718-417c-8f21-46698a21fd8f",
   "metadata": {},
   "outputs": [
    {
     "data": {
      "image/png": "[encoded data removed]",
      "text/plain": [
       "<Figure size 640x480 with 1 Axes>"
      ]
     },
     "metadata": {},
     "output_type": "display_data"
    }
   ],
   "source": [
    "plt.plot( degree, r2_list, 'bo-', label='R-Squared')\n",
    "plt.plot( degree, mse_list, 'go-', label='MSE')\n",
    "plt.plot( degree, rmse_list, 'o--', label='RMSE')\n",
    "plt.plot( degree, mae_list, 'r--', label='MAE')\n",
    "plt.plot( degree, mape_list, 'p--', label='MAPE')\n",
    "plt.xlabel( 'Degree' )\n",
    "plt.ylabel( 'Metrics' )\n",
    "plt.legend();"
   ]
  },
  {
   "cell_type": "code",
   "execution_count": 9,
   "id": "d09827b5-167b-4ee8-9eb2-1d0165a2fca9",
   "metadata": {},
   "outputs": [
    {
     "data": {
      "text/plain": [
       "3"
      ]
     },
     "execution_count": 9,
     "metadata": {},
     "output_type": "execute_result"
    }
   ],
   "source": [
    "best_degree = degree[ np.argmin( mse_list ) ]\n",
    "best_degree"
   ]
  },
  {
   "cell_type": "markdown",
   "id": "d5ccda8e-627d-41b1-9c91-3977298ed055",
   "metadata": {},
   "source": [
    "Alpha"
   ]
  },
  {
   "cell_type": "code",
   "execution_count": 10,
   "id": "98e5fcbe-42af-4eb6-8e83-4aaf30ca4d0a",
   "metadata": {},
   "outputs": [],
   "source": [
    "alpha = np.arange( 0.0, 5.0, 0.2 )\n",
    "\n",
    "r2_list_a = []\n",
    "mse_list_a = []\n",
    "rmse_list_a = []\n",
    "mae_list_a = []\n",
    "mape_list_a = []"
   ]
  },
  {
   "cell_type": "code",
   "execution_count": 11,
   "id": "7ebc7f45-cc0f-4c90-a402-1474bae35b20",
   "metadata": {},
   "outputs": [],
   "source": [
    "for a in alpha:\n",
    "    # Define polynomial model\n",
    "    poly = PolynomialFeatures( degree=best_degree )\n",
    "    X_poly_train_a = poly.fit_transform( df_X_train )\n",
    "    X_poly_val_a = poly.fit_transform( df_X_val )\n",
    "    \n",
    "    # Training model\n",
    "    poly_lasso_a = Lasso( random_state=77, alpha=a )\n",
    "    poly_lasso_a.fit( X_poly_train_a, df_y_train )\n",
    "\n",
    "    # Predict\n",
    "    y_pred_a = poly_lasso_a.predict( X_poly_val_a )\n",
    "\n",
    "    # Performance Metrics\n",
    "    r2_a = mt.r2_score( df_y_val, y_pred_a )\n",
    "    mse_a = mt.mean_squared_error( df_y_val, y_pred_a )\n",
    "    rmse_a = mt.mean_squared_error( df_y_val, y_pred_a, squared=False )\n",
    "    mae_a = mt.mean_absolute_error( df_y_val, y_pred_a )\n",
    "    mape_a = mt.mean_absolute_percentage_error( df_y_val, y_pred_a )\n",
    "\n",
    "    r2_list_a.append( r2_a )\n",
    "    mse_list_a.append( mse_a )\n",
    "    rmse_list_a.append( rmse_a )\n",
    "    mae_list_a.append( mae_a )\n",
    "    mape_list_a.append( mape_a )"
   ]
  },
  {
   "cell_type": "code",
   "execution_count": 12,
   "id": "a8b5898a-5cf7-4fff-b164-7af73d21b11c",
   "metadata": {},
   "outputs": [
    {
     "data": {
      "image/png": "[encoded data removed]",
      "text/plain": [
       "<Figure size 640x480 with 1 Axes>"
      ]
     },
     "metadata": {},
     "output_type": "display_data"
    }
   ],
   "source": [
    "plt.plot( alpha, r2_list_a, 'bo-', label='R-Squared')\n",
    "plt.plot( alpha, mse_list_a, 'go-', label='MSE')\n",
    "plt.plot( alpha, rmse_list_a, 'o--', label='RMSE')\n",
    "plt.plot( alpha, mae_list_a, 'r--', label='MAE')\n",
    "plt.plot( alpha, mape_list_a, 'p--', label='MAPE')\n",
    "plt.xlabel( 'Alpha' )\n",
    "plt.ylabel( 'Metrics' )\n",
    "plt.legend();"
   ]
  },
  {
   "cell_type": "code",
   "execution_count": 13,
   "id": "8676a117-9c39-4830-953b-630e90d7e089",
   "metadata": {},
   "outputs": [
    {
     "data": {
      "text/plain": [
       "0.2"
      ]
     },
     "execution_count": 13,
     "metadata": {},
     "output_type": "execute_result"
    }
   ],
   "source": [
    "best_alpha = alpha[ np.argmin(mse_list_a )]\n",
    "best_alpha"
   ]
  },
  {
   "cell_type": "markdown",
   "id": "af380a5e-d8da-42c4-bb79-0406f3e5e1e4",
   "metadata": {},
   "source": [
    "Max Iter"
   ]
  },
  {
   "cell_type": "code",
   "execution_count": 14,
   "id": "de67652b-c3ea-42b6-8b6f-dee2b939afe6",
   "metadata": {},
   "outputs": [],
   "source": [
    "max_iter = np.arange( 200, 2100, 100 )\n",
    "\n",
    "r2_list_m = []\n",
    "mse_list_m = []\n",
    "rmse_list_m = []\n",
    "mae_list_m = []\n",
    "mape_list_m = []"
   ]
  },
  {
   "cell_type": "code",
   "execution_count": 15,
   "id": "77dfc8ce-4f09-4dad-90af-f9bf3503c283",
   "metadata": {},
   "outputs": [],
   "source": [
    "for m in max_iter:\n",
    "    # Define polynomial model\n",
    "    poly = PolynomialFeatures( degree=best_degree )\n",
    "    X_poly_train_m = poly.fit_transform( df_X_train )\n",
    "    X_poly_val_m = poly.fit_transform( df_X_val )\n",
    "    \n",
    "    # Training model\n",
    "    poly_lasso_m = Lasso( random_state=77, alpha=best_alpha, max_iter=m )\n",
    "    poly_lasso_m.fit( X_poly_train_m, df_y_train )\n",
    "\n",
    "    # Predict\n",
    "    y_pred_m = poly_lasso_a.predict( X_poly_val_m )\n",
    "\n",
    "    # Performance Metrics\n",
    "    r2_m = mt.r2_score( df_y_val, y_pred_m )\n",
    "    mse_m = mt.mean_squared_error( df_y_val, y_pred_m )\n",
    "    rmse_m = mt.mean_squared_error( df_y_val, y_pred_m, squared=False )\n",
    "    mae_m = mt.mean_absolute_error( df_y_val, y_pred_m )\n",
    "    mape_m = mt.mean_absolute_percentage_error( df_y_val, y_pred_m )\n",
    "\n",
    "    r2_list_m.append( r2_m )\n",
    "    mse_list_m.append( mse_m )\n",
    "    rmse_list_m.append( rmse_m )\n",
    "    mae_list_m.append( mae_m )\n",
    "    mape_list_m.append( mape_m )"
   ]
  },
  {
   "cell_type": "code",
   "execution_count": 16,
   "id": "92612042-1e7d-4b7d-8ab2-c3edd2b6bfae",
   "metadata": {},
   "outputs": [
    {
     "data": {
      "image/png": "[encoded data removed]",
      "text/plain": [
       "<Figure size 640x480 with 1 Axes>"
      ]
     },
     "metadata": {},
     "output_type": "display_data"
    }
   ],
   "source": [
    "plt.plot( max_iter, r2_list_m, 'bo-', label='R-Squared')\n",
    "plt.plot( max_iter, mse_list_m, 'go-', label='MSE')\n",
    "plt.plot( max_iter, rmse_list_m, 'o--', label='RMSE')\n",
    "plt.plot( max_iter, mae_list_m, 'r--', label='MAE')\n",
    "plt.plot( max_iter, mape_list_m, 'p--', label='MAPE')\n",
    "plt.xlabel( 'Max Iter' )\n",
    "plt.ylabel( 'Metrics' )\n",
    "plt.legend();"
   ]
  },
  {
   "cell_type": "code",
   "execution_count": 17,
   "id": "cb651f9f-3a2b-4d97-86fb-a4bf537b40cc",
   "metadata": {},
   "outputs": [
    {
     "data": {
      "text/plain": [
       "200"
      ]
     },
     "execution_count": 17,
     "metadata": {},
     "output_type": "execute_result"
    }
   ],
   "source": [
    "best_iter = max_iter[ np.argmin( mse_list_m) ]\n",
    "best_iter"
   ]
  },
  {
   "cell_type": "markdown",
   "id": "1e473066-94df-4752-a17c-2aff6a879e45",
   "metadata": {},
   "source": [
    "## 2.4 - Performance for Test Dataset"
   ]
  },
  {
   "cell_type": "code",
   "execution_count": 18,
   "id": "9ed27ca2-2ca7-4714-89a4-d79a8c3182eb",
   "metadata": {},
   "outputs": [
    {
     "name": "stdout",
     "output_type": "stream",
     "text": [
      "Test R2: 0.05621334\n",
      "Test MSE: 459.5306\n",
      "Test RMSE: 21.43667\n",
      "Test MAE: 17.01685\n",
      "Test MAPE: 8.575682\n"
     ]
    }
   ],
   "source": [
    "# Define polynomial model\n",
    "poly = PolynomialFeatures( degree=best_degree )\n",
    "X_poly_train = poly.fit_transform( df_X_train )\n",
    "X_poly_val = poly.fit_transform( df_X_val )\n",
    "X_poly_test = poly.fit_transform( df_X_test )\n",
    "\n",
    "# Training model\n",
    "poly_lasso = Lasso( random_state=77, alpha=best_alpha, max_iter=best_iter )\n",
    "poly_lasso.fit(np.concatenate( ( X_poly_train, X_poly_val) ) , np.concatenate( ( df_y_train, df_y_val )) )\n",
    "\n",
    "# Predict\n",
    "y_pred_test = poly_lasso.predict( X_poly_test )\n",
    "\n",
    "# Performance Metrics\n",
    "r2_test = mt.r2_score( df_y_test, y_pred_test )\n",
    "mse_test = mt.mean_squared_error( df_y_test, y_pred_test )\n",
    "rmse_test = mt.mean_squared_error( df_y_test, y_pred_test, squared=False )\n",
    "mae_test = mt.mean_absolute_error( df_y_test, y_pred_test )\n",
    "mape_test = mt.mean_absolute_percentage_error( df_y_test, y_pred_test )\n",
    "\n",
    "\n",
    "print( f'Test R2: {r2_test:.7}' )\n",
    "print( f'Test MSE: {mse_test:.7}' )\n",
    "print( f'Test RMSE: {rmse_test:.7}' )\n",
    "print( f'Test MAE: {mae_test:.7}' )\n",
    "print( f'Test MAPE: {mape_test:.7}' )"
   ]
  },
  {
   "cell_type": "markdown",
   "id": "8add4ba0-6217-461e-af23-1c7bb553cf01",
   "metadata": {},
   "source": [
    "# 3.0 - Algoritmo: Polinomial Regression - Ridge"
   ]
  },
  {
   "cell_type": "markdown",
   "id": "ca474376-2995-47b2-ac6e-5452c4bafcfd",
   "metadata": {},
   "source": [
    "Parametros:\n",
    "* degree\n",
    "* alpha\n",
    "* max_iter"
   ]
  },
  {
   "cell_type": "markdown",
   "id": "c8bdfa2e-45a6-4617-89af-8573593e257b",
   "metadata": {},
   "source": [
    "## 3.0.1 - Copy Dataset"
   ]
  },
  {
   "cell_type": "code",
   "execution_count": 19,
   "id": "3a6c8fb7-2b5a-40a7-a709-1555a009e22f",
   "metadata": {},
   "outputs": [],
   "source": [
    "# Train Dataset - Copy\n",
    "X_train_ridge = df_X_train.copy() \n",
    "y_train_ridge = df_y_train.copy()  \n",
    "\n",
    "# Validation Dataset - Copy\n",
    "X_val_ridge = df_X_val.copy()  \n",
    "y_val_ridge = df_y_val.copy()  \n",
    "\n",
    "# Validation Dataset - Copy\n",
    "X_test_ridge = df_X_test.copy()  \n",
    "y_test_ridge = df_y_test.copy()  "
   ]
  },
  {
   "cell_type": "markdown",
   "id": "6028081f-1f09-4054-8dd6-fc4d38927c4f",
   "metadata": {},
   "source": [
    "## 3.1 - Performance for Train Dataset"
   ]
  },
  {
   "cell_type": "code",
   "execution_count": 20,
   "id": "1f4518ff-2185-48b1-8850-8e2a0c9ba736",
   "metadata": {},
   "outputs": [
    {
     "name": "stdout",
     "output_type": "stream",
     "text": [
      "Train R2: 0.09317140761274367\n",
      "Train MSE: 433.47545690992723\n",
      "Train RMSE: 20.82007341269303\n",
      "Train MAE: 16.47197183768649\n",
      "Train MAPE: 8.372689165744577\n"
     ]
    }
   ],
   "source": [
    "# Define \n",
    "poly = PolynomialFeatures( )\n",
    "X_poly_train = poly.fit_transform( X_train_ridge )\n",
    "\n",
    "# Training\n",
    "poly_ridge = Ridge( random_state=77 )\n",
    "poly_ridge.fit( X_poly_train, y_train_ridge )\n",
    "\n",
    "# Predict\n",
    "y_pred_train = poly_ridge.predict( X_poly_train )\n",
    "\n",
    "# Performance metrics\n",
    "r2_train = mt.r2_score( y_train_ridge, y_pred_train )\n",
    "mse_train = mt.mean_squared_error( y_train_ridge, y_pred_train )\n",
    "rmse_train = mt.mean_squared_error( y_train_ridge, y_pred_train, squared=False )\n",
    "mae_train = mt.mean_absolute_error( y_train_ridge, y_pred_train )\n",
    "mape_train = mt.mean_absolute_percentage_error( y_train_ridge, y_pred_train )\n",
    "\n",
    "\n",
    "print( f'Train R2: {r2_train}' )\n",
    "print( f'Train MSE: {mse_train}' )\n",
    "print( f'Train RMSE: {rmse_train}' )\n",
    "print( f'Train MAE: {mae_train}' )\n",
    "print( f'Train MAPE: {mape_train}' )"
   ]
  },
  {
   "cell_type": "markdown",
   "id": "a7288a33-ceeb-494b-b1e5-d3ab1a5fbfb7",
   "metadata": {},
   "source": [
    "## 3.2 - Performance for Validation Dataset"
   ]
  },
  {
   "cell_type": "code",
   "execution_count": 21,
   "id": "a3f55365-8c16-404d-9459-7fc162ecd28c",
   "metadata": {},
   "outputs": [
    {
     "name": "stdout",
     "output_type": "stream",
     "text": [
      "Validation R2: 0.0676993\n",
      "Validation MSE: 445.1844\n",
      "Validation RMSE: 21.09939\n",
      "Validation MAE: 16.73874\n",
      "Validation MAPE: 8.568992\n"
     ]
    }
   ],
   "source": [
    "# Define \n",
    "poly = PolynomialFeatures( )\n",
    "X_poly_train = poly.fit_transform( X_train_ridge )\n",
    "X_poly_val = poly.fit_transform( X_val_ridge )\n",
    "\n",
    "# Training\n",
    "poly_ridge = Ridge( random_state=77 )\n",
    "poly_ridge.fit( X_poly_train, y_train_ridge )\n",
    "\n",
    "# Predict\n",
    "y_pred_val = poly_ridge.predict( X_poly_val )\n",
    "\n",
    "# Performance metrics\n",
    "r2_val = mt.r2_score( y_val_ridge, y_pred_val )\n",
    "mse_val = mt.mean_squared_error( y_val_ridge, y_pred_val )\n",
    "rmse_val = mt.mean_squared_error( y_val_ridge, y_pred_val, squared=False )\n",
    "mae_val = mt.mean_absolute_error( y_val_ridge, y_pred_val )\n",
    "mape_val = mt.mean_absolute_percentage_error( y_val_ridge, y_pred_val )\n",
    "\n",
    "\n",
    "print( f'Validation R2: {r2_val:.7}' )\n",
    "print( f'Validation MSE: {mse_val:.7}' )\n",
    "print( f'Validation RMSE: {rmse_val:.7}' )\n",
    "print( f'Validation MAE: {mae_val:.7}' )\n",
    "print( f'Validation MAPE: {mape_val:.7}' )"
   ]
  },
  {
   "cell_type": "markdown",
   "id": "dd21ef56-ef79-4a9d-a933-dcc4bf32e99c",
   "metadata": {},
   "source": [
    "## 3.3 - Hyperparamater Fine Tuning"
   ]
  },
  {
   "cell_type": "markdown",
   "id": "a983ee98-b67f-4e75-bcd5-a78186e08a5e",
   "metadata": {},
   "source": [
    "## Degree"
   ]
  },
  {
   "cell_type": "code",
   "execution_count": 22,
   "id": "d81a89bd-8707-4715-9556-d6b531f392cd",
   "metadata": {},
   "outputs": [],
   "source": [
    "degree = np.arange( 1,6 )\n",
    "\n",
    "r2_list_d = []\n",
    "mse_list_d = []\n",
    "rmse_list_d = []\n",
    "mae_list_d = []\n",
    "mape_list_d = []"
   ]
  },
  {
   "cell_type": "code",
   "execution_count": 23,
   "id": "2bd28c25-b611-4078-a5c6-a9c0774753d4",
   "metadata": {},
   "outputs": [
    {
     "name": "stdout",
     "output_type": "stream",
     "text": [
      "Degree: 1, RMSE: 21.411339907252348\n",
      "Degree: 2, RMSE: 21.09939359895817\n",
      "Degree: 3, RMSE: 22.66672230189467\n",
      "Degree: 4, RMSE: 118.56201816076153\n",
      "Degree: 5, RMSE: 358.357251617637\n"
     ]
    }
   ],
   "source": [
    "for d in degree:\n",
    "    # Define polynomial model\n",
    "    poly = PolynomialFeatures( degree=d )\n",
    "    X_poly_train = poly.fit_transform( X_train_ridge )\n",
    "    X_poly_val = poly.fit_transform( X_val_ridge )\n",
    "\n",
    "    # Trainining\n",
    "    poly_ridge = Ridge( random_state=77 )\n",
    "    poly_ridge.fit( X_poly_train, y_train_ridge )\n",
    "\n",
    "    # Predict\n",
    "    y_pred = poly_ridge.predict( X_poly_val )\n",
    "\n",
    "    # performance Metrics\n",
    "    r2_d = mt.r2_score( y_val_ridge, y_pred )\n",
    "    mse_d = mt.mean_squared_error( y_val_ridge, y_pred )\n",
    "    rmse_d = np.sqrt( mse_d )\n",
    "    mae_d = mt.mean_absolute_error( y_val_ridge, y_pred )\n",
    "    mape_d = mt.mean_absolute_percentage_error( y_val_ridge, y_pred )\n",
    "\n",
    "    r2_list_d.append( r2_d )\n",
    "    mse_list_d.append( mse_d )\n",
    "    rmse_list_d.append( rmse_d )\n",
    "    mae_list_d.append( mae_d )\n",
    "    mape_list_d.append( mape_d )\n",
    "\n",
    "    print( f'Degree: {d}, RMSE: {rmse_d}' )"
   ]
  },
  {
   "cell_type": "code",
   "execution_count": 24,
   "id": "c025a7fe-748b-4829-9bbf-85798b191e86",
   "metadata": {},
   "outputs": [
    {
     "data": {
      "image/png": "[encoded data removed]",
      "text/plain": [
       "<Figure size 640x480 with 1 Axes>"
      ]
     },
     "metadata": {},
     "output_type": "display_data"
    }
   ],
   "source": [
    "plt.plot( degree, r2_list_d, 'bo-', label='R-Squared')\n",
    "plt.plot( degree, mse_list_d, 'go-', label='MSE')\n",
    "plt.plot( degree, rmse_list_d, 'o--', label='RMSE')\n",
    "plt.plot( degree, mae_list_d, 'r--', label='MAE')\n",
    "plt.plot( degree, mape_list_d, 'p--', label='MAPE')\n",
    "plt.xlabel( 'Degree' )\n",
    "plt.ylabel( 'Metrics' )\n",
    "plt.legend();"
   ]
  },
  {
   "cell_type": "code",
   "execution_count": 25,
   "id": "21abcd39-2ed1-40e5-a4bb-dd653fbc0ec4",
   "metadata": {},
   "outputs": [
    {
     "data": {
      "text/plain": [
       "2"
      ]
     },
     "execution_count": 25,
     "metadata": {},
     "output_type": "execute_result"
    }
   ],
   "source": [
    "best_degree = degree[ np.argmin( mse_list_d)]\n",
    "best_degree"
   ]
  },
  {
   "cell_type": "markdown",
   "id": "aaaf4a38-58be-45e0-9737-f83d5212b9b1",
   "metadata": {},
   "source": [
    "## Alpha"
   ]
  },
  {
   "cell_type": "code",
   "execution_count": 26,
   "id": "e9561cc6-f6d1-4330-9ed3-c3a5c413b603",
   "metadata": {},
   "outputs": [],
   "source": [
    "alpha = np.arange( 0.0, 5.0, 0.2 )\n",
    "\n",
    "r2_list_a = []\n",
    "mse_list_a = []\n",
    "rmse_list_a = []\n",
    "mae_list_a = []\n",
    "mape_list_a = []"
   ]
  },
  {
   "cell_type": "code",
   "execution_count": 27,
   "id": "ec1f3729-e895-4ff7-a549-05289043ecd8",
   "metadata": {},
   "outputs": [],
   "source": [
    "for a in alpha:\n",
    "    # Define polynomial model\n",
    "    poly = PolynomialFeatures( degree=best_degree )\n",
    "    X_poly_train = poly.fit_transform( X_train_ridge )\n",
    "    X_poly_val = poly.fit_transform( X_val_ridge )\n",
    "\n",
    "    # Trainining\n",
    "    poly_ridge = Ridge( random_state=77, alpha=a )\n",
    "    poly_ridge.fit( X_poly_train, y_train_ridge )\n",
    "\n",
    "    # Predict\n",
    "    y_pred = poly_ridge.predict( X_poly_val )\n",
    "\n",
    "    # performance Metrics\n",
    "    r2_a = mt.r2_score( y_val_ridge, y_pred )\n",
    "    mse_a = mt.mean_squared_error( y_val_ridge, y_pred )\n",
    "    rmse_a = np.sqrt( mse_d )\n",
    "    mae_a = mt.mean_absolute_error( y_val_ridge, y_pred )\n",
    "    mape_a = mt.mean_absolute_percentage_error( y_val_ridge, y_pred )\n",
    "\n",
    "    r2_list_a.append( r2_a )\n",
    "    mse_list_a.append( mse_a )\n",
    "    rmse_list_a.append( rmse_a )\n",
    "    mae_list_a.append( mae_a )\n",
    "    mape_list_a.append( mape_a )"
   ]
  },
  {
   "cell_type": "code",
   "execution_count": 28,
   "id": "fe7c154a-b8cc-4a9c-8143-35f7ff1b3e8e",
   "metadata": {},
   "outputs": [
    {
     "data": {
      "image/png": "[encoded data removed]",
      "text/plain": [
       "<Figure size 640x480 with 1 Axes>"
      ]
     },
     "metadata": {},
     "output_type": "display_data"
    }
   ],
   "source": [
    "plt.plot( alpha, r2_list_a, 'bo-', label='R-Squared')\n",
    "plt.plot( alpha, mse_list_a, 'go-', label='MSE')\n",
    "plt.plot( alpha, rmse_list_a, 'o--', label='RMSE')\n",
    "plt.plot( alpha, mae_list_a, 'r--', label='MAE')\n",
    "plt.plot( alpha, mape_list_a, 'p--', label='MAPE')\n",
    "plt.xlabel( 'Alpha' )\n",
    "plt.ylabel( 'Metrics' )\n",
    "plt.legend();"
   ]
  },
  {
   "cell_type": "code",
   "execution_count": 29,
   "id": "5749f11e-41f4-427b-80a6-163cfd10e760",
   "metadata": {},
   "outputs": [
    {
     "data": {
      "text/plain": [
       "1.2000000000000002"
      ]
     },
     "execution_count": 29,
     "metadata": {},
     "output_type": "execute_result"
    }
   ],
   "source": [
    "best_alpha = alpha[ np.argmin(mse_list_a) ]\n",
    "best_alpha"
   ]
  },
  {
   "cell_type": "markdown",
   "id": "5b025c54-58f0-44ff-837a-3186f97e5593",
   "metadata": {},
   "source": [
    "## Max Iter"
   ]
  },
  {
   "cell_type": "code",
   "execution_count": 30,
   "id": "70a97957-3259-4584-8a1e-3628851d08af",
   "metadata": {},
   "outputs": [],
   "source": [
    "max_iter = np.arange( 100, 2100, 100 )\n",
    "\n",
    "r2_list_m = []\n",
    "mse_list_m = []\n",
    "rmse_list_m = []\n",
    "mae_list_m = []\n",
    "mape_list_m = []"
   ]
  },
  {
   "cell_type": "code",
   "execution_count": 31,
   "id": "e5cc3d80-4b69-4759-b62c-ede02a7882e5",
   "metadata": {},
   "outputs": [],
   "source": [
    "for m in max_iter:\n",
    "    # Define polynomial model\n",
    "    poly = PolynomialFeatures( degree=best_degree )\n",
    "    X_poly_train = poly.fit_transform( X_train_ridge )\n",
    "    X_poly_val = poly.fit_transform( X_val_ridge )\n",
    "\n",
    "    # Trainining\n",
    "    poly_ridge = Ridge( random_state=77, alpha=best_alpha, max_iter=m )\n",
    "    poly_ridge.fit( X_poly_train, y_train_ridge )\n",
    "\n",
    "    # Predict\n",
    "    y_pred = poly_ridge.predict( X_poly_val )\n",
    "\n",
    "    # performance Metrics\n",
    "    r2_m = mt.r2_score( y_val_ridge, y_pred )\n",
    "    mse_m = mt.mean_squared_error( y_val_ridge, y_pred )\n",
    "    rmse_m = np.sqrt( mse_d )\n",
    "    mae_m = mt.mean_absolute_error( y_val_ridge, y_pred )\n",
    "    mape_m = mt.mean_absolute_percentage_error( y_val_ridge, y_pred )\n",
    "\n",
    "    r2_list_m.append( r2_m )\n",
    "    mse_list_m.append( mse_m )\n",
    "    rmse_list_m.append( rmse_m )\n",
    "    mae_list_m.append( mae_m )\n",
    "    mape_list_m.append( mape_m )"
   ]
  },
  {
   "cell_type": "code",
   "execution_count": 32,
   "id": "13bc46c6-2245-4c75-a82b-012c75b87e52",
   "metadata": {},
   "outputs": [
    {
     "data": {
      "image/png": "[encoded data removed]",
      "text/plain": [
       "<Figure size 640x480 with 1 Axes>"
      ]
     },
     "metadata": {},
     "output_type": "display_data"
    }
   ],
   "source": [
    "plt.plot( max_iter, r2_list_m, 'bo-', label='R-Squared')\n",
    "plt.plot( max_iter, mse_list_m, 'go-', label='MSE')\n",
    "plt.plot( max_iter, rmse_list_m, 'o--', label='RMSE')\n",
    "plt.plot( max_iter, mae_list_m, 'r--', label='MAE')\n",
    "plt.plot( max_iter, mape_list_m, 'p--', label='MAPE')\n",
    "plt.xlabel( 'Max Iter' )\n",
    "plt.ylabel( 'Metrics' )\n",
    "plt.legend();"
   ]
  },
  {
   "cell_type": "code",
   "execution_count": 33,
   "id": "6c7cdb91-c070-4fb4-a15d-3f3ce10039e2",
   "metadata": {},
   "outputs": [
    {
     "data": {
      "text/plain": [
       "100"
      ]
     },
     "execution_count": 33,
     "metadata": {},
     "output_type": "execute_result"
    }
   ],
   "source": [
    "best_iter = max_iter[ np.argmin(mse_list_m) ]\n",
    "best_iter"
   ]
  },
  {
   "cell_type": "markdown",
   "id": "ca859ce7-d93e-47ff-a3a3-e6802add3862",
   "metadata": {},
   "source": [
    "## 2.4 - Performance for Test Dataset"
   ]
  },
  {
   "cell_type": "code",
   "execution_count": 35,
   "id": "805479b1-6d7e-48f7-ab89-9da2f6e8f05c",
   "metadata": {},
   "outputs": [
    {
     "name": "stdout",
     "output_type": "stream",
     "text": [
      "Test R2: 0.09007962\n",
      "Test MSE: 443.0411\n",
      "Test RMSE: 21.04854\n",
      "Test MAE: 16.74375\n",
      "Test MAPE: 8.31191\n"
     ]
    }
   ],
   "source": [
    "# Define polynomial model\n",
    "poly = PolynomialFeatures( degree=best_degree )\n",
    "X_poly_train = poly.fit_transform( X_train_ridge )\n",
    "X_poly_val   = poly.fit_transform( X_val_ridge ) \n",
    "X_poly_test  = poly.fit_transform( X_test_ridge ) \n",
    "\n",
    "# Training\n",
    "poly_ridge = Ridge( random_state=77, alpha=best_alpha, max_iter=best_iter )\n",
    "poly_ridge.fit( np.concatenate(( X_poly_train,X_poly_val )), np.concatenate(( y_train_ridge, y_val_ridge )) )\n",
    "\n",
    "# Predict\n",
    "y_pred_test = poly_ridge.predict( X_poly_test )\n",
    "\n",
    "# Performance metrics\n",
    "r2_test = mt.r2_score( y_test_ridge,y_pred_test )\n",
    "mse_test = mt.mean_squared_error( y_test_ridge,y_pred_test )\n",
    "rmse_test = mt.mean_squared_error( y_test_ridge,y_pred_test, squared=False )\n",
    "mae_test = mt.mean_absolute_error( y_test_ridge,y_pred_test )\n",
    "mape_test = mt.mean_absolute_percentage_error( y_test_ridge,y_pred_test )\n",
    "\n",
    "print( f'Test R2: {r2_test:.7}' )\n",
    "print( f'Test MSE: {mse_test:.7}' )\n",
    "print( f'Test RMSE: {rmse_test:.7}' )\n",
    "print( f'Test MAE: {mae_test:.7}' )\n",
    "print( f'Test MAPE: {mape_test:.7}' )"
   ]
  },
  {
   "cell_type": "code",
   "execution_count": null,
   "id": "674952b3-b55d-44b2-af6e-dc0d91003512",
   "metadata": {},
   "outputs": [],
   "source": []
  }
 ],
 "metadata": {
  "kernelspec": {
   "display_name": "Python 3 (ipykernel)",
   "language": "python",
   "name": "python3"
  },
  "language_info": {
   "codemirror_mode": {
    "name": "ipython",
    "version": 3
   },
   "file_extension": ".py",
   "mimetype": "text/x-python",
   "name": "python",
   "nbconvert_exporter": "python",
   "pygments_lexer": "ipython3",
   "version": "3.8.10"
  }
 },
 "nbformat": 4,
 "nbformat_minor": 5
}
