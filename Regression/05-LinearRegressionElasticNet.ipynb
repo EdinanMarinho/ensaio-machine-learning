{
 "cells": [
  {
   "cell_type": "markdown",
   "id": "dda79c34-f80f-42c7-983d-ed608e7bd7d7",
   "metadata": {},
   "source": [
    "# 0.0 - Imports"
   ]
  },
  {
   "cell_type": "code",
   "execution_count": 1,
   "id": "990b4377-ce24-4b72-b93e-093922ae6b53",
   "metadata": {},
   "outputs": [],
   "source": [
    "import warnings\n",
    "\n",
    "import pandas as pd\n",
    "import numpy  as np\n",
    "\n",
    "import matplotlib.pyplot as plt\n",
    "\n",
    "from sklearn import metrics as mt\n",
    "from sklearn.linear_model import ElasticNet"
   ]
  },
  {
   "cell_type": "code",
   "execution_count": 2,
   "id": "ceb2df5e-8435-4b78-8ee4-c0f68aaaf9a8",
   "metadata": {},
   "outputs": [],
   "source": [
    "warnings.filterwarnings('ignore')"
   ]
  },
  {
   "cell_type": "markdown",
   "id": "2e87b30b-ca9e-4d32-add5-fa239d0a9306",
   "metadata": {},
   "source": [
    "# 1.0 - Load Data"
   ]
  },
  {
   "cell_type": "code",
   "execution_count": 3,
   "id": "0455d4ce-bad1-4f75-af1b-c61fca205f94",
   "metadata": {},
   "outputs": [],
   "source": [
    "# Train Dataset \n",
    "df_X_train = pd.read_csv( '../dataset/regressao/X_training.csv' )\n",
    "df_y_train = pd.read_csv( '../dataset/regressao/y_training.csv' )\n",
    "\n",
    "# Validation Dataset \n",
    "df_X_val = pd.read_csv( '../dataset/regressao/X_validation.csv' )\n",
    "df_y_val = pd.read_csv( '../dataset/regressao/y_val.csv' )\n",
    "\n",
    "# Validation Dataset \n",
    "df_X_test = pd.read_csv( '../dataset/regressao/X_test.csv' )\n",
    "df_y_test = pd.read_csv( '../dataset/regressao/y_test.csv' )"
   ]
  },
  {
   "cell_type": "markdown",
   "id": "b300e718-d379-4d5f-8429-38249f9c05ae",
   "metadata": {},
   "source": [
    "# 2.0 - Linear Regression - ElasticNet"
   ]
  },
  {
   "cell_type": "markdown",
   "id": "07d18c26-53cf-46ed-b731-369e6e56db61",
   "metadata": {},
   "source": [
    "Parametros \n",
    "* l1_ratio\n",
    "* max_iter\n",
    "* alpha"
   ]
  },
  {
   "cell_type": "markdown",
   "id": "cd74e6c5-7661-4d6e-9115-a553c0b1ea6c",
   "metadata": {},
   "source": [
    "## 2.1 - Performane for Train Dataset"
   ]
  },
  {
   "cell_type": "code",
   "execution_count": 4,
   "id": "dccd1c6b-74c9-4cdc-890a-735e50ea937d",
   "metadata": {},
   "outputs": [
    {
     "name": "stdout",
     "output_type": "stream",
     "text": [
      "Train R2: 0.0078317\n",
      "Train MSE: 474.27\n",
      "Train RMSE: 21.778\n",
      "Train MAE: 17.3\n",
      "Train MAPE: 8.7323\n"
     ]
    }
   ],
   "source": [
    "# Define\n",
    "elastic_net = ElasticNet( random_state=77 )\n",
    "\n",
    "# Training\n",
    "elastic_net.fit( df_X_train, df_y_train )\n",
    "\n",
    "# Predict\n",
    "y_pred_train = elastic_net.predict( df_X_train )\n",
    "\n",
    "# Performance Metrics\n",
    "r2_train = mt.r2_score( df_y_train, y_pred_train )\n",
    "mse_train = mt.mean_squared_error( df_y_train, y_pred_train )\n",
    "rmse_train = mt.mean_squared_error( df_y_train, y_pred_train, squared=False )\n",
    "mae_train = mt.mean_absolute_error( df_y_train, y_pred_train )\n",
    "mape_train = mt.mean_absolute_percentage_error( df_y_train, y_pred_train )\n",
    "\n",
    "print( f'Train R2: {r2_train:.5}' )\n",
    "print( f'Train MSE: {mse_train:.5}' )\n",
    "print( f'Train RMSE: {rmse_train:.5}' )\n",
    "print( f'Train MAE: {mae_train:.5}' )\n",
    "print( f'Train MAPE: {mape_train:.5}' )\n"
   ]
  },
  {
   "cell_type": "markdown",
   "id": "b018bcec-97d3-450f-9cff-273a738af626",
   "metadata": {},
   "source": [
    "## 2.2 - Performance for Validation Dataset"
   ]
  },
  {
   "cell_type": "code",
   "execution_count": 5,
   "id": "2536575e-3f8e-4698-821f-f4835ab95110",
   "metadata": {},
   "outputs": [
    {
     "name": "stdout",
     "output_type": "stream",
     "text": [
      "Validation R2: 0.0081171\n",
      "Validation MSE: 473.64\n",
      "Validation RMSE: 21.763\n",
      "Validation MAE: 17.263\n",
      "Validation MAPE: 8.694\n"
     ]
    }
   ],
   "source": [
    "# Define\n",
    "elastic_net = ElasticNet( random_state=77 )\n",
    "\n",
    "# Training\n",
    "elastic_net.fit( df_X_train, df_y_train )\n",
    "\n",
    "# Predict\n",
    "y_pred_val = elastic_net.predict( df_X_val )\n",
    "\n",
    "# Performance Metrics\n",
    "r2_val = mt.r2_score( df_y_val, y_pred_val )\n",
    "mse_val = mt.mean_squared_error( df_y_val, y_pred_val )\n",
    "rmse_val = mt.mean_squared_error( df_y_val, y_pred_val, squared=False )\n",
    "mae_val = mt.mean_absolute_error( df_y_val, y_pred_val )\n",
    "mape_val = mt.mean_absolute_percentage_error( df_y_val, y_pred_val )\n",
    "\n",
    "print( f'Validation R2: {r2_val:.5}' )\n",
    "print( f'Validation MSE: {mse_val:.5}' )\n",
    "print( f'Validation RMSE: {rmse_val:.5}' )\n",
    "print( f'Validation MAE: {mae_val:.5}' )\n",
    "print( f'Validation MAPE: {mape_val:.5}' )\n"
   ]
  },
  {
   "cell_type": "markdown",
   "id": "6fbb674f-7c5a-41bd-91ff-cedf72206241",
   "metadata": {},
   "source": [
    "## 2.3 - Hyperparameter Fine Tuning"
   ]
  },
  {
   "cell_type": "markdown",
   "id": "ad6e9d87-acfa-4a52-91be-f3ef08250b7d",
   "metadata": {},
   "source": [
    "L1 Ratio"
   ]
  },
  {
   "cell_type": "code",
   "execution_count": 6,
   "id": "18b40eb4-12e7-4584-a9fc-e2972cae8839",
   "metadata": {},
   "outputs": [],
   "source": [
    "l1_ratio = np.arange( 0.0, 1.0, 0.05 )\n",
    "\n",
    "r2_list_l = []\n",
    "mse_list_l = []\n",
    "rmse_list_l = []\n",
    "mae_list_l = []\n",
    "mape_list_l = []"
   ]
  },
  {
   "cell_type": "code",
   "execution_count": 7,
   "id": "1e5d7a8a-6311-4226-ada4-def9789fc597",
   "metadata": {},
   "outputs": [],
   "source": [
    "for l in l1_ratio:\n",
    "    # Define\n",
    "    elastic_net = ElasticNet( random_state=77, l1_ratio=l )\n",
    "    # Training\n",
    "    elastic_net.fit( df_X_train, df_y_train )\n",
    "    # Predict\n",
    "    y_pred = elastic_net.predict( df_X_val )\n",
    "\n",
    "    # Performance Metrics\n",
    "    r2 = mt.r2_score( df_y_val, y_pred )\n",
    "    mse = mt.mean_squared_error( df_y_val, y_pred )\n",
    "    rmse = mt.mean_squared_error( df_y_val, y_pred, squared=False )\n",
    "    mae = mt.mean_absolute_error( df_y_val, y_pred )\n",
    "    mape = mt.mean_absolute_percentage_error( df_y_val, y_pred )\n",
    "\n",
    "    r2_list_l.append( r2 )\n",
    "    mse_list_l.append( mse )\n",
    "    rmse_list_l.append( rmse )\n",
    "    mae_list_l.append( mae )\n",
    "    mape_list_l.append( mape )"
   ]
  },
  {
   "cell_type": "code",
   "execution_count": 8,
   "id": "63c749a8-3750-4a00-8c60-a0be5fbebc66",
   "metadata": {},
   "outputs": [
    {
     "data": {
      "image/png": "[encoded data removed]",
      "text/plain": [
       "<Figure size 640x480 with 1 Axes>"
      ]
     },
     "metadata": {},
     "output_type": "display_data"
    }
   ],
   "source": [
    "plt.plot( l1_ratio, r2_list_l, 'bo-', label='R-Squared')\n",
    "plt.plot( l1_ratio, mse_list_l, 'go-', label='MSE')\n",
    "plt.plot( l1_ratio, rmse_list_l, 'o--', label='RMSE')\n",
    "plt.plot( l1_ratio, mae_list_l, 'r--', label='MAE')\n",
    "plt.plot( l1_ratio, mape_list_l, 'p--', label='MAPE')\n",
    "plt.xlabel( 'L1 Ratio' )\n",
    "plt.ylabel( 'Metrics' )\n",
    "plt.legend();"
   ]
  },
  {
   "cell_type": "code",
   "execution_count": 9,
   "id": "6c4362cf-e80d-4f0b-bec0-549a9c94b2d2",
   "metadata": {},
   "outputs": [
    {
     "data": {
      "text/plain": [
       "0.0"
      ]
     },
     "execution_count": 9,
     "metadata": {},
     "output_type": "execute_result"
    }
   ],
   "source": [
    "best_ratio = l1_ratio[ np.argmin( rmse_list_l) ]\n",
    "best_ratio"
   ]
  },
  {
   "cell_type": "markdown",
   "id": "0f95343d-e2a1-4d50-9e07-e6a9fffe5920",
   "metadata": {},
   "source": [
    "Max iter"
   ]
  },
  {
   "cell_type": "code",
   "execution_count": 10,
   "id": "dcb059ea-9d2c-477b-b2e5-6e3478fe700a",
   "metadata": {},
   "outputs": [],
   "source": [
    "max_iter = np.arange( 100, 3100, 100 )\n",
    "\n",
    "r2_list_m = []\n",
    "mse_list_m = []\n",
    "rmse_list_m = []\n",
    "mae_list_m = []\n",
    "mape_list_m = []"
   ]
  },
  {
   "cell_type": "code",
   "execution_count": 11,
   "id": "5f24b98e-181e-4e52-a63b-9d47029d488a",
   "metadata": {},
   "outputs": [],
   "source": [
    "for m in max_iter:\n",
    "    # Define\n",
    "    elastic_net = ElasticNet( random_state=77, l1_ratio=best_ratio, max_iter=m )\n",
    "    # Training\n",
    "    elastic_net.fit( df_X_train, df_y_train )\n",
    "    # Predict\n",
    "    y_pred = elastic_net.predict( df_X_val )\n",
    "\n",
    "    # Performance Metrics\n",
    "    r2_m = mt.r2_score( df_y_val, y_pred )\n",
    "    mse_m = mt.mean_squared_error( df_y_val, y_pred )\n",
    "    rmse_m = mt.mean_squared_error( df_y_val, y_pred, squared=False )\n",
    "    mae_m = mt.mean_absolute_error( df_y_val, y_pred )\n",
    "    mape_m = mt.mean_absolute_percentage_error( df_y_val, y_pred )\n",
    "\n",
    "    r2_list_m.append( r2_m )\n",
    "    mse_list_m.append( mse_m )\n",
    "    rmse_list_m.append( rmse_m )\n",
    "    mae_list_m.append( mae_m )\n",
    "    mape_list_m.append( mape_m )"
   ]
  },
  {
   "cell_type": "code",
   "execution_count": 12,
   "id": "ef19dbd7-ff6f-4980-b0d5-389fad4c21e3",
   "metadata": {},
   "outputs": [
    {
     "data": {
      "image/png": "[encoded data removed]",
      "text/plain": [
       "<Figure size 640x480 with 1 Axes>"
      ]
     },
     "metadata": {},
     "output_type": "display_data"
    }
   ],
   "source": [
    "plt.plot( max_iter, r2_list_m, 'bo-', label='R-Squared')\n",
    "plt.plot( max_iter, mse_list_m, 'go-', label='MSE')\n",
    "plt.plot( max_iter, rmse_list_m, 'o--', label='RMSE')\n",
    "plt.plot( max_iter, mae_list_m, 'r--', label='MAE')\n",
    "plt.plot( max_iter, mape_list_m, 'p--', label='MAPE')\n",
    "plt.xlabel( 'Max Iter' )\n",
    "plt.ylabel( 'Metrics' )\n",
    "plt.legend();"
   ]
  },
  {
   "cell_type": "code",
   "execution_count": 13,
   "id": "8d58e1a6-5ec3-45d1-ad90-cbc7a593f9ed",
   "metadata": {},
   "outputs": [
    {
     "data": {
      "text/plain": [
       "100"
      ]
     },
     "execution_count": 13,
     "metadata": {},
     "output_type": "execute_result"
    }
   ],
   "source": [
    "best_iter = max_iter[ np.argmin(rmse_list_m) ]\n",
    "best_iter"
   ]
  },
  {
   "cell_type": "markdown",
   "id": "d20bd17d-4e18-407a-9f9e-279655d54547",
   "metadata": {},
   "source": [
    "Alpha"
   ]
  },
  {
   "cell_type": "code",
   "execution_count": 14,
   "id": "5e9b8125-71ae-466d-a67b-2cc5dd21709c",
   "metadata": {},
   "outputs": [],
   "source": [
    "alpha = np.arange( 0, 10, 0.2 )\n",
    "\n",
    "r2_list_a = []\n",
    "mse_list_a = []\n",
    "rmse_list_a = []\n",
    "mae_list_a = []\n",
    "mape_list_a = []"
   ]
  },
  {
   "cell_type": "code",
   "execution_count": 15,
   "id": "79e1e860-f20c-4989-b45e-251cca42d479",
   "metadata": {},
   "outputs": [],
   "source": [
    "for a in alpha:\n",
    "    # Define\n",
    "    elastic_net = ElasticNet( random_state=77, l1_ratio=best_ratio, max_iter=best_iter, alpha=a )\n",
    "    # Training\n",
    "    elastic_net.fit( df_X_train, df_y_train )\n",
    "    # Predict\n",
    "    y_pred = elastic_net.predict( df_X_val )\n",
    "\n",
    "    # Performance Metrics\n",
    "    r2_a = mt.r2_score( df_y_val, y_pred )\n",
    "    mse_a = mt.mean_squared_error( df_y_val, y_pred )\n",
    "    rmse_a = mt.mean_squared_error( df_y_val, y_pred, squared=False )\n",
    "    mae_a = mt.mean_absolute_error( df_y_val, y_pred )\n",
    "    mape_a = mt.mean_absolute_percentage_error( df_y_val, y_pred )\n",
    "\n",
    "    r2_list_a.append( r2_a )\n",
    "    mse_list_a.append( mse_a )\n",
    "    rmse_list_a.append( rmse_a )\n",
    "    mae_list_a.append( mae_a )\n",
    "    mape_list_a.append( mape_a )"
   ]
  },
  {
   "cell_type": "code",
   "execution_count": 16,
   "id": "c5f0f321-c44d-4fad-aa0c-3a4edcf5072c",
   "metadata": {},
   "outputs": [
    {
     "data": {
      "image/png": "[encoded data removed]",
      "text/plain": [
       "<Figure size 640x480 with 1 Axes>"
      ]
     },
     "metadata": {},
     "output_type": "display_data"
    }
   ],
   "source": [
    "plt.plot( alpha, r2_list_a, 'bo-', label='R-Squared')\n",
    "plt.plot( alpha, mse_list_a, 'go-', label='MSE')\n",
    "plt.plot( alpha, rmse_list_a, 'o--', label='RMSE')\n",
    "plt.plot( alpha, mae_list_a, 'r--', label='MAE')\n",
    "plt.plot( alpha, mape_list_a, 'p--', label='MAPE')\n",
    "plt.xlabel( 'Alpha' )\n",
    "plt.ylabel( 'Metrics' )\n",
    "plt.legend();"
   ]
  },
  {
   "cell_type": "code",
   "execution_count": 17,
   "id": "9b82c7e1-743f-4f2f-9061-01fea1d116ea",
   "metadata": {},
   "outputs": [
    {
     "data": {
      "text/plain": [
       "0.0"
      ]
     },
     "execution_count": 17,
     "metadata": {},
     "output_type": "execute_result"
    }
   ],
   "source": [
    "best_alpha = alpha[ np.argmin( rmse_list_a ) ]\n",
    "best_alpha"
   ]
  },
  {
   "cell_type": "markdown",
   "id": "bcefb948-0eb7-4f7d-a877-eca76b041285",
   "metadata": {},
   "source": [
    "## 2.4 - Performance for Test Dataset"
   ]
  },
  {
   "cell_type": "code",
   "execution_count": 18,
   "id": "7e735d6e-b34a-4f90-afd8-711b115701ae",
   "metadata": {},
   "outputs": [
    {
     "name": "stdout",
     "output_type": "stream",
     "text": [
      "Test R2: 0.05116552\n",
      "Test MSE: 461.9884\n",
      "Test RMSE: 21.49392\n",
      "Test MAE: 17.1442\n",
      "Test MAPE: 8.531355\n"
     ]
    }
   ],
   "source": [
    "# Define\n",
    "elastic_net_test = ElasticNet( random_state=77, l1_ratio=best_ratio, max_iter=best_iter, alpha=best_alpha )\n",
    "\n",
    "# Training\n",
    "elastic_net_test.fit( np.concatenate(( df_X_train, df_X_val)), np.concatenate(( df_y_train, df_y_val)) )\n",
    "\n",
    "# Predict\n",
    "y_pred_test = elastic_net_test.predict( df_X_test )\n",
    "\n",
    "# Performance Metrics\n",
    "r2_test = mt.r2_score( df_y_test, y_pred_test )\n",
    "mse_test = mt.mean_squared_error( df_y_test, y_pred_test )\n",
    "rmse_test = mt.mean_squared_error( df_y_test, y_pred_test, squared=False )\n",
    "mae_test = mt.mean_absolute_error( df_y_test, y_pred_test )\n",
    "mape_test = mt.mean_absolute_percentage_error( df_y_test, y_pred_test )\n",
    "\n",
    "print( f'Test R2: {r2_test:.7}' )\n",
    "print( f'Test MSE: {mse_test:.7}' )\n",
    "print( f'Test RMSE: {rmse_test:.7}' )\n",
    "print( f'Test MAE: {mae_test:.7}' )\n",
    "print( f'Test MAPE: {mape_test:.7}' )"
   ]
  },
  {
   "cell_type": "code",
   "execution_count": null,
   "id": "19cfe7e9-e15c-4221-8ce2-85e9b0e0675c",
   "metadata": {},
   "outputs": [],
   "source": []
  }
 ],
 "metadata": {
  "kernelspec": {
   "display_name": "Python 3 (ipykernel)",
   "language": "python",
   "name": "python3"
  },
  "language_info": {
   "codemirror_mode": {
    "name": "ipython",
    "version": 3
   },
   "file_extension": ".py",
   "mimetype": "text/x-python",
   "name": "python",
   "nbconvert_exporter": "python",
   "pygments_lexer": "ipython3",
   "version": "3.8.10"
  }
 },
 "nbformat": 4,
 "nbformat_minor": 5
}
