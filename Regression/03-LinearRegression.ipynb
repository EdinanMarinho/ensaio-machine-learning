{
 "cells": [
  {
   "cell_type": "markdown",
   "id": "e23f19ab-9262-4a7e-bb21-2713f2314c3b",
   "metadata": {},
   "source": [
    "# 0.0 - Imports Libraries"
   ]
  },
  {
   "cell_type": "code",
   "execution_count": 9,
   "id": "2535875b-b0d9-413a-b48f-cfa2f4c2a931",
   "metadata": {},
   "outputs": [],
   "source": [
    "import warnings\n",
    "\n",
    "import pandas as pd\n",
    "import numpy  as np\n",
    "\n",
    "import matplotlib.pyplot as plt\n",
    "\n",
    "from sklearn import metrics as mt\n",
    "from sklearn.linear_model import LinearRegression"
   ]
  },
  {
   "cell_type": "code",
   "execution_count": 10,
   "id": "ca6a59ad-f565-48d9-84b1-9982041aad8b",
   "metadata": {},
   "outputs": [],
   "source": [
    "warnings.filterwarnings('ignore')"
   ]
  },
  {
   "cell_type": "markdown",
   "id": "7b6aca9e-1023-4e35-980d-b77f89c8d120",
   "metadata": {},
   "source": [
    "# 1.0 - Load Dataset"
   ]
  },
  {
   "cell_type": "code",
   "execution_count": 2,
   "id": "e826b503-d3c3-44a6-82e3-f750b4ae8009",
   "metadata": {},
   "outputs": [],
   "source": [
    "# Train Dataset \n",
    "df_X_train = pd.read_csv( '../dataset/regressao/X_training.csv' )\n",
    "df_y_train = pd.read_csv( '../dataset/regressao/y_training.csv' )\n",
    "\n",
    "# Validation Dataset \n",
    "df_X_val = pd.read_csv( '../dataset/regressao/X_validation.csv' )\n",
    "df_y_val = pd.read_csv( '../dataset/regressao/y_val.csv' )\n",
    "\n",
    "# Validation Dataset \n",
    "df_X_test = pd.read_csv( '../dataset/regressao/X_test.csv' )\n",
    "df_y_test = pd.read_csv( '../dataset/regressao/y_test.csv' )"
   ]
  },
  {
   "cell_type": "markdown",
   "id": "a2bb154e-c46c-4f56-a2ad-afa30323bc9a",
   "metadata": {},
   "source": [
    "# 2.0 - Linear Regression"
   ]
  },
  {
   "cell_type": "code",
   "execution_count": 4,
   "id": "3a0269ba-11b6-4aca-8de2-366a5a5ee4c1",
   "metadata": {},
   "outputs": [
    {
     "name": "stdout",
     "output_type": "stream",
     "text": [
      "Train R2: 0.04605830473391903\n",
      "Train MSE: 455.99611182562677\n",
      "Train RMSE: 21.35406546364478\n",
      "Train MAE: 16.998249066011095\n",
      "Train MAPE: 8.653185943804512\n"
     ]
    }
   ],
   "source": [
    "# definition\n",
    "model_lr_train = LinearRegression()\n",
    "\n",
    "# training\n",
    "model_lr_train.fit( df_X_train, df_y_train )\n",
    "\n",
    "# performance\n",
    "y_pred_train = model_lr_train.predict( df_X_train )\n",
    "\n",
    "# performance metrics\n",
    "r2_train = mt.r2_score( df_y_train, y_pred_train )\n",
    "mse_train = mt.mean_squared_error( df_y_train, y_pred_train )\n",
    "rmse_train = mt.mean_squared_error( df_y_train, y_pred_train, squared=False )\n",
    "mae_train = mt.mean_absolute_error( df_y_train, y_pred_train )\n",
    "mape_train = mt.mean_absolute_percentage_error( df_y_train, y_pred_train )\n",
    "\n",
    "print( f'Train R2: {r2_train}' )\n",
    "print( f'Train MSE: {mse_train}' )\n",
    "print( f'Train RMSE: {rmse_train}' )\n",
    "print( f'Train MAE: {mae_train}' )\n",
    "print( f'Train MAPE: {mape_train}' )"
   ]
  },
  {
   "cell_type": "markdown",
   "id": "b162d4d1-1dac-40ab-8599-df3df2b9a2a7",
   "metadata": {},
   "source": [
    "## 2.2 - Performance for Validation Dataset"
   ]
  },
  {
   "cell_type": "code",
   "execution_count": 6,
   "id": "7b6b4618-b684-4ab3-8ef8-96d42f662c9b",
   "metadata": {},
   "outputs": [
    {
     "name": "stdout",
     "output_type": "stream",
     "text": [
      "Validation R2: 0.03992483038154071\n",
      "Validation MSE: 458.4470418439312\n",
      "Validation RMSE: 21.41137645841414\n",
      "Validation MAE: 17.039753759960327\n",
      "Validation MAPE: 8.682541883735295\n"
     ]
    }
   ],
   "source": [
    "# definition\n",
    "model_lr_val = LinearRegression()\n",
    "\n",
    "# training\n",
    "model_lr_val.fit( df_X_train, df_y_train )\n",
    "\n",
    "# performance\n",
    "y_pred_val = model_lr_val.predict( df_X_val )\n",
    "\n",
    "# performance metrics\n",
    "r2_val = mt.r2_score( df_y_val, y_pred_val )\n",
    "mse_val = mt.mean_squared_error( df_y_val, y_pred_val )\n",
    "rmse_val = mt.mean_squared_error( df_y_val, y_pred_val, squared=False )\n",
    "mae_val = mt.mean_absolute_error( df_y_val, y_pred_val )\n",
    "mape_val = mt.mean_absolute_percentage_error( df_y_val, y_pred_val )\n",
    "\n",
    "print( f'Validation R2: {r2_val}' )\n",
    "print( f'Validation MSE: {mse_val}' )\n",
    "print( f'Validation RMSE: {rmse_val}' )\n",
    "print( f'Validation MAE: {mae_val}' )\n",
    "print( f'Validation MAPE: {mape_val}' )"
   ]
  },
  {
   "cell_type": "markdown",
   "id": "0b19c7c1-7dc8-4ba0-af53-a05ea4effeb4",
   "metadata": {},
   "source": [
    "## 2.3 - Performance for Test Dataset"
   ]
  },
  {
   "cell_type": "code",
   "execution_count": 11,
   "id": "211b258a-670f-479a-bf6b-77bcaf5128f0",
   "metadata": {},
   "outputs": [
    {
     "name": "stdout",
     "output_type": "stream",
     "text": [
      "Test R2: 0.05116551777115075\n",
      "Test MSE: 461.98843535255924\n",
      "Test RMSE: 21.493916240475098\n",
      "Test MAE: 17.1441970869877\n",
      "Test MAPE: 8.531355027820084\n"
     ]
    }
   ],
   "source": [
    "# definition\n",
    "model_lr_test = LinearRegression()\n",
    "\n",
    "# training\n",
    "model_lr_test.fit( np.concatenate(( df_X_train, df_X_val)), np.concatenate(( df_y_train, df_y_val )) )\n",
    "\n",
    "# performance\n",
    "y_pred_test = model_lr_test.predict( df_X_test )\n",
    "\n",
    "# performance metrics\n",
    "r2_test = mt.r2_score( df_y_test, y_pred_test )\n",
    "mse_test = mt.mean_squared_error( df_y_test, y_pred_test )\n",
    "rmse_test = mt.mean_squared_error( df_y_test, y_pred_test, squared=False )\n",
    "mae_test = mt.mean_absolute_error( df_y_test, y_pred_test )\n",
    "mape_test = mt.mean_absolute_percentage_error( df_y_test, y_pred_test )\n",
    "\n",
    "print( f'Test R2: {r2_test}' )\n",
    "print( f'Test MSE: {mse_test}' )\n",
    "print( f'Test RMSE: {rmse_test}' )\n",
    "print( f'Test MAE: {mae_test}' )\n",
    "print( f'Test MAPE: {mape_test}' )"
   ]
  }
 ],
 "metadata": {
  "kernelspec": {
   "display_name": "Python 3 (ipykernel)",
   "language": "python",
   "name": "python3"
  },
  "language_info": {
   "codemirror_mode": {
    "name": "ipython",
    "version": 3
   },
   "file_extension": ".py",
   "mimetype": "text/x-python",
   "name": "python",
   "nbconvert_exporter": "python",
   "pygments_lexer": "ipython3",
   "version": "3.8.10"
  }
 },
 "nbformat": 4,
 "nbformat_minor": 5
}
