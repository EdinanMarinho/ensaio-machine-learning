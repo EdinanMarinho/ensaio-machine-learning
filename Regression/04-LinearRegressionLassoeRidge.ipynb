{
 "cells": [
  {
   "cell_type": "markdown",
   "id": "6d422d4f-c7b1-4995-8ee6-e2e341a863cc",
   "metadata": {},
   "source": [
    "# 0.0 - Imports Libraries"
   ]
  },
  {
   "cell_type": "code",
   "execution_count": 1,
   "id": "2e28293b-181e-4ca3-af5e-d9ec65b67414",
   "metadata": {},
   "outputs": [],
   "source": [
    "import warnings\n",
    "\n",
    "import pandas as pd\n",
    "import numpy  as np\n",
    "\n",
    "import matplotlib.pyplot as plt\n",
    "\n",
    "from sklearn import metrics as mt\n",
    "from sklearn.linear_model import Lasso\n",
    "from sklearn.linear_model import Ridge"
   ]
  },
  {
   "cell_type": "code",
   "execution_count": 2,
   "id": "c78d5b27-d6c4-4164-98c4-ca4a09370604",
   "metadata": {},
   "outputs": [],
   "source": [
    "warnings.filterwarnings('ignore')"
   ]
  },
  {
   "cell_type": "markdown",
   "id": "b868b256-99d6-49be-9469-cf28f71ae797",
   "metadata": {},
   "source": [
    "# 1.0 Load Dataset"
   ]
  },
  {
   "cell_type": "code",
   "execution_count": 3,
   "id": "baf643f6-34d0-43d5-bcbe-445d7e38d89d",
   "metadata": {},
   "outputs": [],
   "source": [
    "# Train Dataset \n",
    "df_X_train = pd.read_csv( '../dataset/regressao/X_training.csv' )\n",
    "df_y_train = pd.read_csv( '../dataset/regressao/y_training.csv' )\n",
    "\n",
    "# Validation Dataset \n",
    "df_X_val = pd.read_csv( '../dataset/regressao/X_validation.csv' )\n",
    "df_y_val = pd.read_csv( '../dataset/regressao/y_val.csv' )\n",
    "\n",
    "# Validation Dataset \n",
    "df_X_test = pd.read_csv( '../dataset/regressao/X_test.csv' )\n",
    "df_y_test = pd.read_csv( '../dataset/regressao/y_test.csv' )"
   ]
  },
  {
   "cell_type": "markdown",
   "id": "b162f86e-eb5f-40c9-af22-1d4be48565ec",
   "metadata": {},
   "source": [
    "# 2.0 - Algoritmo: Lasso"
   ]
  },
  {
   "cell_type": "markdown",
   "id": "520ff35c-0acf-458b-8f19-8dce366d6479",
   "metadata": {},
   "source": [
    "Parametros:\n",
    "* max_iter\n",
    "* alpha"
   ]
  },
  {
   "cell_type": "markdown",
   "id": "bdea5341-11e8-4134-9599-d1037bbf2c0d",
   "metadata": {},
   "source": [
    "## 2.1 - Performance for Train Dataset"
   ]
  },
  {
   "cell_type": "code",
   "execution_count": 4,
   "id": "39d7543f-3d5b-4eb2-9caf-35a6e3b081d9",
   "metadata": {},
   "outputs": [
    {
     "name": "stdout",
     "output_type": "stream",
     "text": [
      "Train R2: 0.0074009\n",
      "Train MSE: 474.47\n",
      "Train RMSE: 21.782\n",
      "Train MAE: 17.305\n",
      "Train MSE 8.7367\n"
     ]
    }
   ],
   "source": [
    "# define\n",
    "lasso = Lasso( random_state=77 )\n",
    "\n",
    "# training\n",
    "lasso.fit( df_X_train, df_y_train )\n",
    "\n",
    "# predict\n",
    "y_pred_train = lasso.predict( df_X_train )\n",
    "\n",
    "# performance metrics\n",
    "r2_train = mt.r2_score( df_y_train, y_pred_train )\n",
    "mse_train = mt.mean_squared_error( df_y_train, y_pred_train )\n",
    "rmse_train = mt.mean_squared_error( df_y_train, y_pred_train, squared=False )\n",
    "mae_train = mt.mean_absolute_error( df_y_train, y_pred_train )\n",
    "mape_train = mt.mean_absolute_percentage_error( df_y_train, y_pred_train )\n",
    "\n",
    "print( f'Train R2: {r2_train:.5}' )\n",
    "print( f'Train MSE: {mse_train:.5}' )\n",
    "print( f'Train RMSE: {rmse_train:.5}' )\n",
    "print( f'Train MAE: {mae_train:.5}' )\n",
    "print( f'Train MSE {mape_train:.5}' )"
   ]
  },
  {
   "cell_type": "markdown",
   "id": "4180c706-7963-4380-84d6-b2b4a7ec7a3b",
   "metadata": {},
   "source": [
    "## 2.2 - Performance for Validation Dataset"
   ]
  },
  {
   "cell_type": "code",
   "execution_count": 5,
   "id": "a3891dff-460c-423e-b496-c082e3101b6d",
   "metadata": {},
   "outputs": [
    {
     "name": "stdout",
     "output_type": "stream",
     "text": [
      "Validation R2: 0.0078836\n",
      "Validation MSE: 473.75\n",
      "Validation RMSE: 21.766\n",
      "Validation MAE: 17.265\n",
      "Validation MSE 8.6958\n"
     ]
    }
   ],
   "source": [
    "# define\n",
    "lasso_val = Lasso( random_state=77 )\n",
    "\n",
    "# training\n",
    "lasso_val.fit( df_X_train, df_y_train )\n",
    "\n",
    "# predict\n",
    "y_pred_val = lasso_val.predict( df_X_val )\n",
    "\n",
    "# performance metrics\n",
    "r2_val = mt.r2_score( df_y_val, y_pred_val )\n",
    "mse_val = mt.mean_squared_error( df_y_val, y_pred_val )\n",
    "rmse_val = mt.mean_squared_error( df_y_val, y_pred_val, squared=False )\n",
    "mae_val = mt.mean_absolute_error( df_y_val, y_pred_val )\n",
    "mape_val = mt.mean_absolute_percentage_error( df_y_val, y_pred_val )\n",
    "\n",
    "print( f'Validation R2: {r2_val:.5}' )\n",
    "print( f'Validation MSE: {mse_val:.5}' )\n",
    "print( f'Validation RMSE: {rmse_val:.5}' )\n",
    "print( f'Validation MAE: {mae_val:.5}' )\n",
    "print( f'Validation MSE {mape_val:.5}' )"
   ]
  },
  {
   "cell_type": "markdown",
   "id": "04e70592-851b-429f-bc0e-ddb77f5a0b5a",
   "metadata": {},
   "source": [
    "## 2.3 - Hyperparameter Fine Tuning"
   ]
  },
  {
   "cell_type": "markdown",
   "id": "74bf2b96-337b-4e59-a7f2-6e19b38b51c7",
   "metadata": {},
   "source": [
    "* Max Iter"
   ]
  },
  {
   "cell_type": "code",
   "execution_count": 6,
   "id": "01a176e1-2161-465c-8abb-8428b1dd3d2e",
   "metadata": {},
   "outputs": [],
   "source": [
    "max_iter = np.arange( 400, 4100, 100 )\n",
    "\n",
    "r2_list_m = []\n",
    "mse_list_m = []\n",
    "rmse_list_m = []\n",
    "mae_list_m = []\n",
    "mape_list_m = []"
   ]
  },
  {
   "cell_type": "code",
   "execution_count": 7,
   "id": "abdd35d9-2e06-43e5-9a6f-fa0f0bb3be50",
   "metadata": {},
   "outputs": [],
   "source": [
    "for m in max_iter:\n",
    "    # Definition\n",
    "    lasso = Lasso(random_state=77, max_iter=m )\n",
    "    lasso.fit( df_X_train, df_y_train )\n",
    "\n",
    "    # Predict\n",
    "    y_pred = lasso.predict( df_X_val )\n",
    "\n",
    "    # Performance Metrics\n",
    "    r2_m = mt.r2_score( df_y_val, y_pred )\n",
    "    mse_m = mt.mean_squared_error( df_y_val, y_pred )\n",
    "    rmse_m = mt.mean_squared_error( df_y_val, y_pred, squared=False )\n",
    "    mae_m = mt.mean_absolute_error( df_y_val, y_pred )\n",
    "    mape_m = mt.mean_absolute_percentage_error( df_y_val, y_pred )\n",
    "\n",
    "    r2_list_m.append( r2_m )\n",
    "    mse_list_m.append( mse_m )\n",
    "    rmse_list_m.append( rmse_m )\n",
    "    mae_list_m.append( mae_m )\n",
    "    mape_list_m.append( mape_m )"
   ]
  },
  {
   "cell_type": "code",
   "execution_count": 8,
   "id": "d78182f8-a6bb-4b10-adce-6489314969d8",
   "metadata": {},
   "outputs": [
    {
     "data": {
      "image/png": "[encoded data removed]",
      "text/plain": [
       "<Figure size 640x480 with 1 Axes>"
      ]
     },
     "metadata": {},
     "output_type": "display_data"
    }
   ],
   "source": [
    "plt.plot( max_iter, r2_list_m, 'bo-', label='R-Squared')\n",
    "plt.plot( max_iter, mse_list_m, 'go-', label='MSE')\n",
    "plt.plot( max_iter, rmse_list_m, 'o--', label='RMSE')\n",
    "plt.plot( max_iter, mae_list_m, 'r--', label='MAE')\n",
    "plt.plot( max_iter, mape_list_m, 'p--', label='MAPE')\n",
    "plt.xlabel( 'Max Iter' )\n",
    "plt.ylabel( 'Metrics' )\n",
    "plt.legend();"
   ]
  },
  {
   "cell_type": "code",
   "execution_count": 9,
   "id": "52021b2a-a997-4dcb-8dfd-618b915f02de",
   "metadata": {},
   "outputs": [
    {
     "data": {
      "text/plain": [
       "400"
      ]
     },
     "execution_count": 9,
     "metadata": {},
     "output_type": "execute_result"
    }
   ],
   "source": [
    "best_iter = max_iter[ np.argmin(rmse_list_m) ]\n",
    "best_iter"
   ]
  },
  {
   "cell_type": "markdown",
   "id": "4c93c259-3551-4745-9b71-5493eb145f57",
   "metadata": {},
   "source": [
    "* Alpha"
   ]
  },
  {
   "cell_type": "code",
   "execution_count": 10,
   "id": "a09496c2-78a3-456b-955d-85880ba1279f",
   "metadata": {},
   "outputs": [],
   "source": [
    "alpha = np.arange( 0, 5, 0.2 )\n",
    "\n",
    "r2_list = []\n",
    "mse_list = []\n",
    "rmse_list = []\n",
    "mae_list = []\n",
    "mape_list = []"
   ]
  },
  {
   "cell_type": "code",
   "execution_count": 11,
   "id": "e6368ce3-b7d4-4934-8cf5-28e1feccb3bd",
   "metadata": {},
   "outputs": [],
   "source": [
    "for a in alpha:\n",
    "    # Definition\n",
    "    lasso = Lasso(random_state=77, max_iter=best_iter, alpha=a )\n",
    "    lasso.fit( df_X_train, df_y_train )\n",
    "\n",
    "    # Predict\n",
    "    y_pred = lasso.predict( df_X_val )\n",
    "\n",
    "    # Performance Metrics\n",
    "    r2_a = mt.r2_score( df_y_val, y_pred )\n",
    "    mse_a = mt.mean_squared_error( df_y_val, y_pred )\n",
    "    rmse_a = mt.mean_squared_error( df_y_val, y_pred, squared=False )\n",
    "    mae_a = mt.mean_absolute_error( df_y_val, y_pred )\n",
    "    mape_a = mt.mean_absolute_percentage_error( df_y_val, y_pred )\n",
    "\n",
    "    r2_list.append( r2_a )\n",
    "    mse_list.append( mse_a )\n",
    "    rmse_list.append( rmse_a )\n",
    "    mae_list.append( mae_a )\n",
    "    mape_list.append( mape_a )"
   ]
  },
  {
   "cell_type": "code",
   "execution_count": 12,
   "id": "45e691d5-a387-4c72-8f9c-158de7337392",
   "metadata": {},
   "outputs": [
    {
     "data": {
      "image/png": "[encoded data removed]",
      "text/plain": [
       "<Figure size 640x480 with 1 Axes>"
      ]
     },
     "metadata": {},
     "output_type": "display_data"
    }
   ],
   "source": [
    "plt.plot( alpha, r2_list, 'bo-', label='R-Squared')\n",
    "plt.plot( alpha, mse_list, 'go-', label='MSE')\n",
    "plt.plot( alpha, rmse_list, 'o--', label='RMSE')\n",
    "plt.plot( alpha, mae_list, 'r--', label='MAE')\n",
    "plt.plot( alpha, mape_list, 'p--', label='MAPE')\n",
    "plt.xlabel( 'Alpha' )\n",
    "plt.ylabel( 'Metrics' )\n",
    "plt.legend();"
   ]
  },
  {
   "cell_type": "code",
   "execution_count": 13,
   "id": "d83934d9-18ab-41b7-8d6d-8eb611a55801",
   "metadata": {},
   "outputs": [
    {
     "data": {
      "text/plain": [
       "0.0"
      ]
     },
     "execution_count": 13,
     "metadata": {},
     "output_type": "execute_result"
    }
   ],
   "source": [
    "best_alpha = alpha[ np.argmin( rmse_list) ]\n",
    "best_alpha"
   ]
  },
  {
   "cell_type": "markdown",
   "id": "c7b84f33-3090-456e-9c76-b3a5b5d6514a",
   "metadata": {},
   "source": [
    "## 2.4 - Performance for Test Dataset"
   ]
  },
  {
   "cell_type": "code",
   "execution_count": 14,
   "id": "7c40f587-785c-4fe0-841f-8485c1a9fdda",
   "metadata": {},
   "outputs": [
    {
     "name": "stdout",
     "output_type": "stream",
     "text": [
      "Validation R2: 0.051166\n",
      "Validation MSE: 461.99\n",
      "Validation RMSE: 21.494\n",
      "Validation MAE: 17.144\n",
      "Validation MSE 8.5314\n"
     ]
    }
   ],
   "source": [
    "# define\n",
    "lasso_test = Lasso( random_state=77, max_iter=best_iter, alpha=best_alpha )\n",
    "\n",
    "# training\n",
    "lasso_test.fit( np.concatenate((df_X_train, df_X_val)), np.concatenate((df_y_train, df_y_val ))  )\n",
    "\n",
    "# predict\n",
    "y_pred_test = lasso_test.predict( df_X_test )\n",
    "\n",
    "# performance metrics\n",
    "r2_test = mt.r2_score( df_y_test, y_pred_test )\n",
    "mse_test = mt.mean_squared_error( df_y_test, y_pred_test )\n",
    "rmse_test = mt.mean_squared_error( df_y_test, y_pred_test, squared=False )\n",
    "mae_test = mt.mean_absolute_error( df_y_test, y_pred_test )\n",
    "mape_test = mt.mean_absolute_percentage_error( df_y_test, y_pred_test )\n",
    "\n",
    "print( f'Test R2: {r2_test:.5}' )\n",
    "print( f'Test MSE: {mse_test:.5}' )\n",
    "print( f'Test RMSE: {rmse_test:.5}' )\n",
    "print( f'Test MAE: {mae_test:.5}' )\n",
    "print( f'Test MSE {mape_test:.5}' )"
   ]
  },
  {
   "cell_type": "markdown",
   "id": "0e9528bb-450a-4642-9352-38650406d1ae",
   "metadata": {},
   "source": [
    "# 3.0 - Algoritmo: Ridge"
   ]
  },
  {
   "cell_type": "markdown",
   "id": "200cc014-667c-4304-896a-715dd97c2aec",
   "metadata": {},
   "source": [
    "Parametros:\n",
    "* max_iter\n",
    "* alpha"
   ]
  },
  {
   "cell_type": "markdown",
   "id": "b27530ab-b2d5-428f-874b-14f11d1d7e18",
   "metadata": {},
   "source": [
    "## 3.1 - Performance for Train Dataset"
   ]
  },
  {
   "cell_type": "code",
   "execution_count": 15,
   "id": "481c2dd3-237e-407c-b64d-1c53c6101430",
   "metadata": {},
   "outputs": [],
   "source": [
    "# Train Dataset - Copy\n",
    "X_train_ridge = df_X_train.copy() \n",
    "y_train_ridge = df_y_train.copy()  \n",
    "\n",
    "# Validation Dataset - Copy\n",
    "X_val_ridge = df_X_val.copy()  \n",
    "y_val_ridge = df_y_val.copy()  \n",
    "\n",
    "# Validation Dataset - Copy\n",
    "X_test_ridge = df_X_test.copy()  \n",
    "y_test_ridge = df_y_test.copy()  "
   ]
  },
  {
   "cell_type": "code",
   "execution_count": 16,
   "id": "cd25b42d-e025-46c2-8ff4-dea78ec0ef82",
   "metadata": {},
   "outputs": [
    {
     "name": "stdout",
     "output_type": "stream",
     "text": [
      "Train Ridge R2: 0.046058\n",
      "Train Ridge MSE: 456.0\n",
      "Train Ridge RMSE: 21.354\n",
      "Train Ridge MAE: 16.998\n",
      "Train Ridge MAPE: 8.6534\n"
     ]
    }
   ],
   "source": [
    "# Define\n",
    "ridge = Ridge( random_state=77 )\n",
    "\n",
    "# Training\n",
    "ridge.fit( X_train_ridge, y_train_ridge )\n",
    "\n",
    "# Predict\n",
    "y_pred_train = ridge.predict( X_train_ridge )\n",
    "\n",
    "# Performance Metrics\n",
    "r2_train_ridge = mt.r2_score( y_train_ridge, y_pred_train )\n",
    "mse_train_ridge = mt.mean_squared_error( y_train_ridge, y_pred_train )\n",
    "rmse_train_ridge = mt.mean_squared_error( y_train_ridge, y_pred_train, squared=False )\n",
    "mae_train_ridge = mt.mean_absolute_error( y_train_ridge, y_pred_train )\n",
    "mape_train_ridge = mt.mean_absolute_percentage_error( y_train_ridge, y_pred_train )\n",
    "\n",
    "print( f'Train Ridge R2: {r2_train_ridge:.5}' )\n",
    "print( f'Train Ridge MSE: {mse_train_ridge:.5}' )\n",
    "print( f'Train Ridge RMSE: {rmse_train_ridge:.5}' )\n",
    "print( f'Train Ridge MAE: {mae_train_ridge:.5}' )\n",
    "print( f'Train Ridge MAPE: {mape_train_ridge:.5}' )"
   ]
  },
  {
   "cell_type": "markdown",
   "id": "45948e16-4400-408c-9eb6-ca430f83e55a",
   "metadata": {},
   "source": [
    "## 3.2 - Performance for Validation Dataset"
   ]
  },
  {
   "cell_type": "code",
   "execution_count": 17,
   "id": "2bed564c-b0eb-4a63-9a9e-361aa4c34c59",
   "metadata": {},
   "outputs": [
    {
     "name": "stdout",
     "output_type": "stream",
     "text": [
      "Validation Ridge R2: 0.039928\n",
      "Validation Ridge MSE: 458.45\n",
      "Validation Ridge RMSE: 21.411\n",
      "Validation Ridge MAE: 17.039\n",
      "Validation Ridge MAPE: 8.6824\n"
     ]
    }
   ],
   "source": [
    "# Define\n",
    "ridge_val = Ridge( random_state=77 )\n",
    "\n",
    "# Training\n",
    "ridge_val.fit( X_train_ridge, y_train_ridge )\n",
    "\n",
    "# Predict\n",
    "y_pred_val = ridge_val.predict( X_val_ridge )\n",
    "\n",
    "# Performance Metrics\n",
    "r2_val_ridge = mt.r2_score( y_val_ridge, y_pred_val )\n",
    "mse_val_ridge = mt.mean_squared_error( y_val_ridge, y_pred_val )\n",
    "rmse_val_ridge = mt.mean_squared_error( y_val_ridge, y_pred_val, squared=False )\n",
    "mae_val_ridge = mt.mean_absolute_error( y_val_ridge, y_pred_val )\n",
    "mape_val_ridge = mt.mean_absolute_percentage_error( y_val_ridge, y_pred_val )\n",
    "\n",
    "print( f'Validation Ridge R2: {r2_val_ridge:.5}' )\n",
    "print( f'Validation Ridge MSE: {mse_val_ridge:.5}' )\n",
    "print( f'Validation Ridge RMSE: {rmse_val_ridge:.5}' )\n",
    "print( f'Validation Ridge MAE: {mae_val_ridge:.5}' )\n",
    "print( f'Validation Ridge MAPE: {mape_val_ridge:.5}' )"
   ]
  },
  {
   "cell_type": "markdown",
   "id": "8a96a6b5-1903-487c-a33d-78a0ee569a26",
   "metadata": {},
   "source": [
    "## 3.3 - Hyperparameter Fine Tuning"
   ]
  },
  {
   "cell_type": "markdown",
   "id": "a1e21aae-92bb-4e0c-aa74-2c8327248883",
   "metadata": {},
   "source": [
    "Max Iter"
   ]
  },
  {
   "cell_type": "code",
   "execution_count": 18,
   "id": "4d4b178f-f97d-4dfc-8a6f-6d22bec89e7b",
   "metadata": {},
   "outputs": [],
   "source": [
    "max_iter_ridge = np.arange( 100, 5100, 100 )\n",
    "\n",
    "r2_list_r = []\n",
    "mse_list_r = []\n",
    "rmse_list_r = []\n",
    "mae_list_r = []\n",
    "mape_list_r = []"
   ]
  },
  {
   "cell_type": "code",
   "execution_count": 20,
   "id": "4867748d-5793-4c95-a13d-277cb5c6e667",
   "metadata": {},
   "outputs": [],
   "source": [
    "for mr in max_iter_ridge:\n",
    "    # Define\n",
    "    ridge = Ridge( random_state=77, max_iter=mr )\n",
    "    # Training\n",
    "    ridge.fit( X_train_ridge, y_train_ridge )\n",
    "    # Predict\n",
    "    y_pred = ridge.predict( X_val_ridge )\n",
    "\n",
    "    # Performance Metrics\n",
    "    r2 = mt.r2_score( y_val_ridge, y_pred )\n",
    "    mse = mt.mean_squared_error( y_val_ridge, y_pred )\n",
    "    rmse = mt.mean_squared_error( y_val_ridge, y_pred, squared=False )\n",
    "    mae = mt.mean_absolute_error( y_val_ridge, y_pred )\n",
    "    mape = mt.mean_absolute_percentage_error( y_val_ridge, y_pred )\n",
    "\n",
    "    r2_list_r.append( r2 )\n",
    "    mse_list_r.append( mse )\n",
    "    rmse_list_r.append( rmse )\n",
    "    mae_list_r.append( mae )\n",
    "    mape_list_r.append( mape )"
   ]
  },
  {
   "cell_type": "code",
   "execution_count": 21,
   "id": "204a5a36-1d22-48d0-ad52-39b28b80264f",
   "metadata": {},
   "outputs": [
    {
     "data": {
      "image/png": "[encoded data removed]",
      "text/plain": [
       "<Figure size 640x480 with 1 Axes>"
      ]
     },
     "metadata": {},
     "output_type": "display_data"
    }
   ],
   "source": [
    "plt.plot( max_iter_ridge, r2_list_r, 'bo-', label='R-Squared')\n",
    "plt.plot( max_iter_ridge, mse_list_r, 'go-', label='MSE')\n",
    "plt.plot( max_iter_ridge, rmse_list_r, 'o--', label='RMSE')\n",
    "plt.plot( max_iter_ridge, mae_list_r, 'r--', label='MAE')\n",
    "plt.plot( max_iter_ridge, mape_list_r, 'p--', label='MAPE')\n",
    "plt.xlabel( 'Max Iter' )\n",
    "plt.ylabel( 'Metrics' )\n",
    "plt.legend();"
   ]
  },
  {
   "cell_type": "code",
   "execution_count": 23,
   "id": "bbfec4fa-a004-499e-8d67-96482863e7a7",
   "metadata": {},
   "outputs": [
    {
     "data": {
      "text/plain": [
       "100"
      ]
     },
     "execution_count": 23,
     "metadata": {},
     "output_type": "execute_result"
    }
   ],
   "source": [
    "best_iter_r = max_iter_ridge[ np.argmin( rmse_list_r )]\n",
    "best_iter_r"
   ]
  },
  {
   "cell_type": "markdown",
   "id": "4bf61f1e-88e5-4360-9e7c-fee3686c5d5f",
   "metadata": {},
   "source": [
    "Alpha"
   ]
  },
  {
   "cell_type": "code",
   "execution_count": 32,
   "id": "23e9135d-79a0-42b9-8f30-f94293b6452d",
   "metadata": {},
   "outputs": [],
   "source": [
    "alpha_r = np.arange( 0, 10, 0.2 )\n",
    "\n",
    "r2_list_a = []\n",
    "mse_list_a = []\n",
    "rmse_list_a = []\n",
    "mae_list_a = []\n",
    "mape_list_a = []"
   ]
  },
  {
   "cell_type": "code",
   "execution_count": 33,
   "id": "007f8448-3bc1-4f76-96cf-7923d6303b4e",
   "metadata": {},
   "outputs": [],
   "source": [
    "for a in alpha_r:\n",
    "    # Define\n",
    "    ridge = Ridge( random_state=77, max_iter=best_iter_r, alpha=a )\n",
    "    # Training\n",
    "    ridge.fit( X_train_ridge, y_train_ridge )\n",
    "    # Predict\n",
    "    y_pred = ridge.predict( X_val_ridge )\n",
    "\n",
    "    # Performance Metrics\n",
    "    r2 = mt.r2_score( y_val_ridge, y_pred )\n",
    "    mse = mt.mean_squared_error( y_val_ridge, y_pred )\n",
    "    rmse = mt.mean_squared_error( y_val_ridge, y_pred, squared=False )\n",
    "    mae = mt.mean_absolute_error( y_val_ridge, y_pred )\n",
    "    mape = mt.mean_absolute_percentage_error( y_val_ridge, y_pred )\n",
    "\n",
    "    r2_list_a.append( r2 )\n",
    "    mse_list_a.append( mse )\n",
    "    rmse_list_a.append( rmse )\n",
    "    mae_list_a.append( mae )\n",
    "    mape_list_a.append( mape )"
   ]
  },
  {
   "cell_type": "code",
   "execution_count": 34,
   "id": "2c6e7efc-7391-46ac-adc7-4e491e6e61d4",
   "metadata": {},
   "outputs": [
    {
     "data": {
      "image/png": "[encoded data removed]",
      "text/plain": [
       "<Figure size 640x480 with 1 Axes>"
      ]
     },
     "metadata": {},
     "output_type": "display_data"
    }
   ],
   "source": [
    "plt.plot( alpha_r, r2_list_a, 'bo-', label='R-Squared')\n",
    "plt.plot( alpha_r, mse_list_a, 'go-', label='MSE')\n",
    "plt.plot( alpha_r, rmse_list_a, 'o--', label='RMSE')\n",
    "plt.plot( alpha_r, mae_list_a, 'r--', label='MAE')\n",
    "plt.plot( alpha_r, mape_list_a, 'p--', label='MAPE')\n",
    "plt.xlabel( 'Alpha' )\n",
    "plt.ylabel( 'Metrics' )\n",
    "plt.legend();"
   ]
  },
  {
   "cell_type": "code",
   "execution_count": 35,
   "id": "48eacdb1-93d7-479a-9d30-91f9a0dd227c",
   "metadata": {},
   "outputs": [
    {
     "data": {
      "text/plain": [
       "8.0"
      ]
     },
     "execution_count": 35,
     "metadata": {},
     "output_type": "execute_result"
    }
   ],
   "source": [
    "best_iter_a = alpha_r[ np.argmin( rmse_list_a )]\n",
    "best_iter_a"
   ]
  },
  {
   "cell_type": "markdown",
   "id": "502bec99-7b6a-4b10-991c-027b2bd2eab5",
   "metadata": {},
   "source": [
    "## 3.4 - Performance for Test Dataset"
   ]
  },
  {
   "cell_type": "code",
   "execution_count": 36,
   "id": "138f456d-980d-4438-b010-31126abc5df8",
   "metadata": {},
   "outputs": [
    {
     "name": "stdout",
     "output_type": "stream",
     "text": [
      "Test R2: 0.051144\n",
      "Test MSE: 462.0\n",
      "Test RMSE: 21.494\n",
      "Test MAE: 17.143\n",
      "Test MSE 8.5366\n"
     ]
    }
   ],
   "source": [
    "# define\n",
    "ridge_test = Ridge( random_state=77, max_iter=best_iter_r, alpha=best_iter_a )\n",
    "# training\n",
    "ridge_test.fit( np.concatenate(( X_train_ridge, X_val_ridge)), np.concatenate((y_train_ridge, y_val_ridge ))  )\n",
    "\n",
    "# predict\n",
    "y_pred_test = ridge_test.predict( X_test_ridge )\n",
    "\n",
    "# performance metrics\n",
    "r2_test = mt.r2_score( y_test_ridge, y_pred_test )\n",
    "mse_test = mt.mean_squared_error( y_test_ridge, y_pred_test )\n",
    "rmse_test = mt.mean_squared_error( y_test_ridge, y_pred_test, squared=False )\n",
    "mae_test = mt.mean_absolute_error( y_test_ridge, y_pred_test )\n",
    "mape_test = mt.mean_absolute_percentage_error( y_test_ridge, y_pred_test )\n",
    "\n",
    "print( f'Test R2: {r2_test:.5}' )\n",
    "print( f'Test MSE: {mse_test:.5}' )\n",
    "print( f'Test RMSE: {rmse_test:.5}' )\n",
    "print( f'Test MAE: {mae_test:.5}' )\n",
    "print( f'Test MSE {mape_test:.5}' )"
   ]
  },
  {
   "cell_type": "code",
   "execution_count": null,
   "id": "3e9a3389-cd8a-4059-894a-18945de6cd03",
   "metadata": {},
   "outputs": [],
   "source": []
  },
  {
   "cell_type": "code",
   "execution_count": null,
   "id": "0cb0eeac-3c2b-42ad-b2f3-e8c75ab74c9e",
   "metadata": {},
   "outputs": [],
   "source": []
  }
 ],
 "metadata": {
  "kernelspec": {
   "display_name": "Python 3 (ipykernel)",
   "language": "python",
   "name": "python3"
  },
  "language_info": {
   "codemirror_mode": {
    "name": "ipython",
    "version": 3
   },
   "file_extension": ".py",
   "mimetype": "text/x-python",
   "name": "python",
   "nbconvert_exporter": "python",
   "pygments_lexer": "ipython3",
   "version": "3.8.10"
  }
 },
 "nbformat": 4,
 "nbformat_minor": 5
}
