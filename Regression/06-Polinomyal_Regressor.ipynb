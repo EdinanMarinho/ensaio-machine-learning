{
 "cells": [
  {
   "cell_type": "markdown",
   "id": "0313ef63-1e26-4f27-9895-67a145ecdcac",
   "metadata": {},
   "source": [
    "# 0.0 - Imports Libraries"
   ]
  },
  {
   "cell_type": "code",
   "execution_count": 1,
   "id": "a0e05afe-c345-4022-aaab-6d84af1731ce",
   "metadata": {},
   "outputs": [],
   "source": [
    "import pandas as pd\n",
    "import numpy  as np\n",
    "\n",
    "import matplotlib.pyplot as plt\n",
    "\n",
    "from sklearn import metrics as mt\n",
    "from sklearn.linear_model import LinearRegression\n",
    "from sklearn.preprocessing import PolynomialFeatures"
   ]
  },
  {
   "cell_type": "code",
   "execution_count": null,
   "id": "8c355f62-f545-4f76-ade5-8b77780039f7",
   "metadata": {},
   "outputs": [],
   "source": []
  },
  {
   "cell_type": "markdown",
   "id": "b0df4508-d14a-4b08-ad8a-d0a6b279aad9",
   "metadata": {},
   "source": [
    "# 1.0 - Load Dataset"
   ]
  },
  {
   "cell_type": "code",
   "execution_count": 2,
   "id": "4db02f10-10f8-44cd-9379-9f396f0f604d",
   "metadata": {},
   "outputs": [],
   "source": [
    "# Train Dataset \n",
    "df_X_train = pd.read_csv( '../dataset/regressao/X_training.csv' )\n",
    "df_y_train = pd.read_csv( '../dataset/regressao/y_training.csv' )\n",
    "\n",
    "# Validation Dataset \n",
    "df_X_val = pd.read_csv( '../dataset/regressao/X_validation.csv' )\n",
    "df_y_val = pd.read_csv( '../dataset/regressao/y_val.csv' )\n",
    "\n",
    "# Validation Dataset \n",
    "df_X_test = pd.read_csv( '../dataset/regressao/X_test.csv' )\n",
    "df_y_test = pd.read_csv( '../dataset/regressao/y_test.csv' )"
   ]
  },
  {
   "cell_type": "code",
   "execution_count": null,
   "id": "7b971ecd-4d6b-4d10-90f7-265048225fc4",
   "metadata": {},
   "outputs": [],
   "source": []
  },
  {
   "cell_type": "markdown",
   "id": "e2a475a6-74a5-4476-813e-42e6d5602564",
   "metadata": {},
   "source": [
    "# 2.0 - Algoritmo: Polinomial Regression"
   ]
  },
  {
   "cell_type": "markdown",
   "id": "7b4ea9f1-184b-4892-b349-740dcff6e0bc",
   "metadata": {},
   "source": [
    "Parâmetro\n",
    "* degree"
   ]
  },
  {
   "cell_type": "code",
   "execution_count": 4,
   "id": "a6ad7bdc-66db-42b2-9ddd-433dad21e0b9",
   "metadata": {},
   "outputs": [
    {
     "name": "stdout",
     "output_type": "stream",
     "text": [
      "Train R2: 0.09419491057528084\n",
      "Train MSE: 432.9862096386579\n",
      "Train RMSE: 20.80832068280999\n",
      "Train MAE: 16.45803175582444\n",
      "Train MAPE: 8.350539820928116\n"
     ]
    }
   ],
   "source": [
    "# Define\n",
    "poly_train = PolynomialFeatures()\n",
    "X_poly_train = poly_train.fit_transform( df_X_train )\n",
    "\n",
    "\n",
    "# Training\n",
    "poly_reg = LinearRegression()\n",
    "poly_reg.fit( X_poly_train, df_y_train )\n",
    "\n",
    "\n",
    "# Performance\n",
    "y_pred_train = poly_reg.predict( X_poly_train )\n",
    "\n",
    "\n",
    "# Performance metrics\n",
    "r2_train = mt.r2_score( df_y_train, y_pred_train )\n",
    "mse_train = mt.mean_squared_error( df_y_train, y_pred_train )\n",
    "rmse_train = mt.mean_squared_error( df_y_train, y_pred_train, squared=False )\n",
    "mae_train = mt.mean_absolute_error( df_y_train, y_pred_train )\n",
    "mape_train = mt.mean_absolute_percentage_error( df_y_train, y_pred_train )\n",
    "\n",
    "print( f'Train R2: {r2_train:4}' )\n",
    "print( f'Train MSE: {mse_train:4}' )\n",
    "print( f'Train RMSE: {rmse_train:4}' )\n",
    "print( f'Train MAE: {mae_train:4}' )\n",
    "print( f'Train MAPE: {mape_train:4}' )"
   ]
  },
  {
   "cell_type": "markdown",
   "id": "f5e23c36-3d93-4db7-bfc8-3d68102a8fe1",
   "metadata": {},
   "source": [
    "## 2.2 - Performance for Validation Dataset"
   ]
  },
  {
   "cell_type": "code",
   "execution_count": 10,
   "id": "edea6ff5-2334-41c0-9e61-c6fc4b9d5f09",
   "metadata": {},
   "outputs": [
    {
     "name": "stdout",
     "output_type": "stream",
     "text": [
      "Validation R2: 0.06647668\n",
      "Validation MSE: 445.7682\n",
      "Validation RMSE: 21.11322\n",
      "Validation MAE: 16.74994\n",
      "Validation MAPE: 8.547931\n"
     ]
    }
   ],
   "source": [
    "# Define\n",
    "poly = PolynomialFeatures()\n",
    "X_poly_train = poly.fit_transform( df_X_train )\n",
    "X_poly_val = poly.fit_transform( df_X_val )\n",
    "\n",
    "# Training\n",
    "poly_reg = LinearRegression()\n",
    "poly_reg.fit( X_poly_train, df_y_train )\n",
    "\n",
    "# Performance\n",
    "y_pred_val = poly_reg.predict( X_poly_val )\n",
    "\n",
    "# Performance Metrics\n",
    "r2_val = mt.r2_score( df_y_val, y_pred_val )\n",
    "mse_val = mt.mean_squared_error( df_y_val, y_pred_val )\n",
    "rmse_val = mt.mean_squared_error( df_y_val, y_pred_val, squared=False )\n",
    "mae_val = mt.mean_absolute_error( df_y_val, y_pred_val )\n",
    "mape_val = mt.mean_absolute_percentage_error( df_y_val, y_pred_val )\n",
    "\n",
    "print( f'Validation R2: {r2_val:.7}' )\n",
    "print( f'Validation MSE: {mse_val:.7}' )\n",
    "print( f'Validation RMSE: {rmse_val:.7}' )\n",
    "print( f'Validation MAE: {mae_val:.7}' )\n",
    "print( f'Validation MAPE: {mape_val:.7}' )"
   ]
  },
  {
   "cell_type": "markdown",
   "id": "7c334ad4-429d-46e7-89a3-7c945ba1428f",
   "metadata": {},
   "source": [
    "## 2.3 - Hyperparameter Fine Tuning"
   ]
  },
  {
   "cell_type": "code",
   "execution_count": 11,
   "id": "f898d372-48cc-45df-a640-9b91cfa9a7a1",
   "metadata": {},
   "outputs": [],
   "source": [
    "degree = np.arange( 1, 6 )\n",
    "\n",
    "r2_list = []\n",
    "mse_list = []\n",
    "rmse_list = []\n",
    "mae_list = []\n",
    "mape_list = []"
   ]
  },
  {
   "cell_type": "code",
   "execution_count": 12,
   "id": "57c9fa92-e348-4331-b02d-594504080f6f",
   "metadata": {},
   "outputs": [],
   "source": [
    "for d in degree: \n",
    "    # Definiti Polynomial Model\n",
    "    poly = PolynomialFeatures( degree=d )\n",
    "    X_poly_train = poly.fit_transform( df_X_train )\n",
    "    X_poly_val = poly.fit_transform( df_X_val )\n",
    "\n",
    "\n",
    "    # training\n",
    "    poly_reg = LinearRegression()\n",
    "    poly_reg.fit( X_poly_train, df_y_train )\n",
    "\n",
    "    # predict\n",
    "    y_pred = poly_reg.predict( X_poly_val )\n",
    "\n",
    "    # Performance Metrics\n",
    "    r2_d = mt.r2_score( df_y_val, y_pred )\n",
    "    mse_d = mt.mean_squared_error( df_y_val, y_pred )\n",
    "    rmse_d = mt.mean_squared_error( df_y_val, y_pred, squared=False )\n",
    "    mae_d = mt.mean_absolute_error( df_y_val, y_pred )\n",
    "    mape_d = mt.mean_absolute_percentage_error( df_y_val, y_pred )\n",
    "\n",
    "    r2_list.append( r2_d )\n",
    "    mse_list.append( mse_d )\n",
    "    rmse_list.append( rmse_d )\n",
    "    mae_list.append( mae_d )\n",
    "    mape_list.append( mape_d )\n"
   ]
  },
  {
   "cell_type": "code",
   "execution_count": 13,
   "id": "efca48bc-122b-440e-be09-1a2a3a0858b7",
   "metadata": {},
   "outputs": [
    {
     "data": {
      "image/png": "[encoded data removed]",
      "text/plain": [
       "<Figure size 640x480 with 1 Axes>"
      ]
     },
     "metadata": {},
     "output_type": "display_data"
    }
   ],
   "source": [
    "plt.plot( degree, r2_list, 'bo-', label='R-Squared')\n",
    "plt.plot( degree, mse_list, 'go-', label='MSE')\n",
    "plt.plot( degree, rmse_list, 'o--', label='RMSE')\n",
    "plt.plot( degree, mae_list, 'r--', label='MAE')\n",
    "plt.plot( degree, mape_list, 'p--', label='MAPE')\n",
    "plt.xlabel( 'Degree' )\n",
    "plt.ylabel( 'Metrics' )\n",
    "plt.legend();"
   ]
  },
  {
   "cell_type": "code",
   "execution_count": 14,
   "id": "7ae827ac-9f99-4480-944d-a572d6bf9854",
   "metadata": {},
   "outputs": [
    {
     "data": {
      "text/plain": [
       "2"
      ]
     },
     "execution_count": 14,
     "metadata": {},
     "output_type": "execute_result"
    }
   ],
   "source": [
    "best_degree = degree[ np.argmin( mse_list) ]\n",
    "best_degree"
   ]
  },
  {
   "cell_type": "markdown",
   "id": "478dcef3-1eb4-4201-906b-e41a785261e5",
   "metadata": {},
   "source": [
    "## 2.4 - Performance for Test Dataset"
   ]
  },
  {
   "cell_type": "code",
   "execution_count": 17,
   "id": "29daa258-616c-45f2-805c-a63ba4330b9a",
   "metadata": {},
   "outputs": [
    {
     "name": "stdout",
     "output_type": "stream",
     "text": [
      "Test R2: 0.0909006\n",
      "Test MSE: 442.6414\n",
      "Test RMSE: 21.03904\n",
      "Test MAE: 16.73641\n",
      "Test MAPE: 8.276972\n"
     ]
    }
   ],
   "source": [
    "# Define Polynomial Model\n",
    "poly = PolynomialFeatures( degree=best_degree )\n",
    "X_poly_train = poly.fit_transform( df_X_train )\n",
    "X_poly_val = poly.fit_transform( df_X_val )\n",
    "X_poly_test = poly.fit_transform( df_X_test )\n",
    "\n",
    "# Training\n",
    "poly_reg = LinearRegression()\n",
    "poly_reg.fit( np.concatenate((X_poly_train, X_poly_val)), np.concatenate(( df_y_train, df_y_val)) )\n",
    "\n",
    "# Performance\n",
    "y_pred_test = poly_reg.predict( X_poly_test )\n",
    "\n",
    "# Performance Metrics\n",
    "r2_test = mt.r2_score( df_y_test, y_pred_test )\n",
    "mse_test = mt.mean_squared_error( df_y_test, y_pred_test )\n",
    "rmse_test = mt.mean_squared_error( df_y_test, y_pred_test, squared=False )\n",
    "mae_test = mt.mean_absolute_error( df_y_test, y_pred_test )\n",
    "mape_test = mt.mean_absolute_percentage_error( df_y_test, y_pred_test )\n",
    "\n",
    "print( f'Test R2: {r2_test:.7}' )\n",
    "print( f'Test MSE: {mse_test:.7}' )\n",
    "print( f'Test RMSE: {rmse_test:.7}' )\n",
    "print( f'Test MAE: {mae_test:.7}' )\n",
    "print( f'Test MAPE: {mape_test:.7}' )"
   ]
  },
  {
   "cell_type": "code",
   "execution_count": null,
   "id": "c27be48c-8871-4afe-9de6-ee2cd971ef02",
   "metadata": {},
   "outputs": [],
   "source": []
  },
  {
   "cell_type": "code",
   "execution_count": null,
   "id": "01e50481-6d05-4b74-b38c-a578b8f93257",
   "metadata": {},
   "outputs": [],
   "source": []
  }
 ],
 "metadata": {
  "kernelspec": {
   "display_name": "Python 3 (ipykernel)",
   "language": "python",
   "name": "python3"
  },
  "language_info": {
   "codemirror_mode": {
    "name": "ipython",
    "version": 3
   },
   "file_extension": ".py",
   "mimetype": "text/x-python",
   "name": "python",
   "nbconvert_exporter": "python",
   "pygments_lexer": "ipython3",
   "version": "3.8.10"
  }
 },
 "nbformat": 4,
 "nbformat_minor": 5
}
